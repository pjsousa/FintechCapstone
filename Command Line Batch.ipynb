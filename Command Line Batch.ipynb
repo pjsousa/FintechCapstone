{
 "cells": [
  {
   "cell_type": "code",
   "execution_count": 2,
   "metadata": {},
   "outputs": [
    {
     "name": "stdout",
     "output_type": "stream",
     "text": [
      "The autoreload extension is already loaded. To reload it, use:\n",
      "  %reload_ext autoreload\n"
     ]
    }
   ],
   "source": [
    "%load_ext autoreload\n",
    "%autoreload 2"
   ]
  },
  {
   "cell_type": "code",
   "execution_count": 3,
   "metadata": {},
   "outputs": [
    {
     "name": "stderr",
     "output_type": "stream",
     "text": [
      "Using Theano backend.\n"
     ]
    }
   ],
   "source": [
    "from __future__ import print_function\n",
    "\n",
    "import datetime\n",
    "import pandas as pd\n",
    "import numpy as np\n",
    "from dateutil import parser as dtparser\n",
    "\n",
    "from utils.datafetch import *\n",
    "from utils.vectorized_funs import *\n",
    "from utils.datapipe import *\n",
    "from utils.kerasutil import *\n",
    "from utils import scenarioa\n",
    "from FintechCapstone import FinCapstone\n",
    "\n",
    "import matplotlib as mpl\n",
    "import matplotlib.pyplot as plt\n",
    "import seaborn as sns\n",
    "from sklearn.decomposition import PCA\n",
    "\n",
    "pd.options.display.max_rows = 200\n"
   ]
  },
  {
   "cell_type": "code",
   "execution_count": 4,
   "metadata": {
    "scrolled": false
   },
   "outputs": [],
   "source": [
    "%matplotlib inline\n",
    "\n",
    "plt.style.use('seaborn-whitegrid')\n",
    "date_from = '2009-01-01'\n",
    "date_to = '2017-03-01'\n",
    "timespan = {\n",
    "    \"short_term\": [1, 5]\n",
    "    ,\"medium_term\": [40]\n",
    "    ,\"long_term\": [90]\n",
    "}\n",
    "\n",
    "trial = FinCapstone(ticker_list=[\"GLW\",\"HIMX\",\"GLUU\"], scenario=\"baseline\",ticker_list_samplesize=4, timespan=timespan, date_from=date_from, reset_status=False)\n",
    "#trial = FinCapstone(ticker_list=[\"ZHNE\",\"BSFT\",\"AERO\",\"MATR\",\"ITMSF\",\"FIT\",\"TIPT\",\"OLBK\",\"QADA\",\"ATTU\",\"LGF\",\"STX\",\"TPCS\",\"GSAT\",\"ZNGA\",\"GLW\",\"HIMX\",\"YHOO\", \"NWSA\",\"JAKK\",\"GLUU\",\"AMZN\", \"AAPL\", \"EBAY\", \"GOOG\", \"NFLX\", \"DIS\", \"EA\", \"TWTR\", \"FB\", \"TTWO\", \"PXLW\", \"UBI\"], scenario=\"scenarioa\", ticker_list_samplesize=4, timespan=timespan, date_from=date_from, reset_status=False)\n",
    "#trial = FinCapstone(ticker_list_samplesize=200, timespan=timespan, date_from=date_from, reset_status=False)\n",
    "\n",
    "#trial.run_initial_dataload()\n",
    "#trial.feature_engineering()\n",
    "#trial.train(2, ticker=\"GLUU\")\n",
    "#trial.train(train_next=2)\n",
    "\n"
   ]
  },
  {
   "cell_type": "code",
   "execution_count": 6,
   "metadata": {},
   "outputs": [
    {
     "data": {
      "text/html": [
       "<div>\n",
       "<table border=\"1\" class=\"dataframe\">\n",
       "  <thead>\n",
       "    <tr style=\"text-align: right;\">\n",
       "      <th></th>\n",
       "      <th>value</th>\n",
       "    </tr>\n",
       "    <tr>\n",
       "      <th>property</th>\n",
       "      <th></th>\n",
       "    </tr>\n",
       "  </thead>\n",
       "  <tbody>\n",
       "    <tr>\n",
       "      <th>modeltrain_status</th>\n",
       "      <td>DONE</td>\n",
       "    </tr>\n",
       "    <tr>\n",
       "      <th>fetch_status</th>\n",
       "      <td>COMPLETE</td>\n",
       "    </tr>\n",
       "    <tr>\n",
       "      <th>train_from</th>\n",
       "      <td>2010-01-01 00:00:00</td>\n",
       "    </tr>\n",
       "    <tr>\n",
       "      <th>featureengineer_status</th>\n",
       "      <td>COMPLETE</td>\n",
       "    </tr>\n",
       "    <tr>\n",
       "      <th>date_from</th>\n",
       "      <td>2009-01-01</td>\n",
       "    </tr>\n",
       "    <tr>\n",
       "      <th>test_from</th>\n",
       "      <td>2016-01-01 00:00:00</td>\n",
       "    </tr>\n",
       "    <tr>\n",
       "      <th>scenario</th>\n",
       "      <td>baseline</td>\n",
       "    </tr>\n",
       "    <tr>\n",
       "      <th>date_to</th>\n",
       "      <td>2017-04-25</td>\n",
       "    </tr>\n",
       "    <tr>\n",
       "      <th>train_until</th>\n",
       "      <td>2015-12-31 00:00:00</td>\n",
       "    </tr>\n",
       "    <tr>\n",
       "      <th>model_name</th>\n",
       "      <td>ExampleFintech</td>\n",
       "    </tr>\n",
       "  </tbody>\n",
       "</table>\n",
       "</div>"
      ],
      "text/plain": [
       "                                      value\n",
       "property                                   \n",
       "modeltrain_status                      DONE\n",
       "fetch_status                       COMPLETE\n",
       "train_from              2010-01-01 00:00:00\n",
       "featureengineer_status             COMPLETE\n",
       "date_from                        2009-01-01\n",
       "test_from               2016-01-01 00:00:00\n",
       "scenario                           baseline\n",
       "date_to                          2017-04-25\n",
       "train_until             2015-12-31 00:00:00\n",
       "model_name                   ExampleFintech"
      ]
     },
     "execution_count": 6,
     "metadata": {},
     "output_type": "execute_result"
    }
   ],
   "source": [
    "trial.load_status_files()\n",
    "trial.trialconfig_df"
   ]
  },
  {
   "cell_type": "code",
   "execution_count": 7,
   "metadata": {
    "scrolled": false
   },
   "outputs": [
    {
     "data": {
      "text/html": [
       "<div>\n",
       "<table border=\"1\" class=\"dataframe\">\n",
       "  <thead>\n",
       "    <tr style=\"text-align: right;\">\n",
       "      <th></th>\n",
       "      <th>status</th>\n",
       "      <th>start</th>\n",
       "      <th>end</th>\n",
       "      <th>msg</th>\n",
       "    </tr>\n",
       "    <tr>\n",
       "      <th>ticker</th>\n",
       "      <th></th>\n",
       "      <th></th>\n",
       "      <th></th>\n",
       "      <th></th>\n",
       "    </tr>\n",
       "  </thead>\n",
       "  <tbody>\n",
       "    <tr>\n",
       "      <th>GLW</th>\n",
       "      <td>OK</td>\n",
       "      <td>2017-04-25 20:00:46.624410</td>\n",
       "      <td>2017-04-25 20:00:47.592989</td>\n",
       "      <td>NaN</td>\n",
       "    </tr>\n",
       "    <tr>\n",
       "      <th>HIMX</th>\n",
       "      <td>OK</td>\n",
       "      <td>2017-04-25 20:00:47.593414</td>\n",
       "      <td>2017-04-25 20:00:47.947813</td>\n",
       "      <td>NaN</td>\n",
       "    </tr>\n",
       "    <tr>\n",
       "      <th>GLUU</th>\n",
       "      <td>OK</td>\n",
       "      <td>2017-04-25 20:00:47.948358</td>\n",
       "      <td>2017-04-25 20:00:48.233259</td>\n",
       "      <td>NaN</td>\n",
       "    </tr>\n",
       "  </tbody>\n",
       "</table>\n",
       "</div>"
      ],
      "text/plain": [
       "       status                       start                         end  msg\n",
       "ticker                                                                    \n",
       "GLW        OK  2017-04-25 20:00:46.624410  2017-04-25 20:00:47.592989  NaN\n",
       "HIMX       OK  2017-04-25 20:00:47.593414  2017-04-25 20:00:47.947813  NaN\n",
       "GLUU       OK  2017-04-25 20:00:47.948358  2017-04-25 20:00:48.233259  NaN"
      ]
     },
     "execution_count": 7,
     "metadata": {},
     "output_type": "execute_result"
    }
   ],
   "source": [
    "trial.load_status_files()\n",
    "trial.fetchstatus_df"
   ]
  },
  {
   "cell_type": "code",
   "execution_count": 8,
   "metadata": {
    "scrolled": false
   },
   "outputs": [
    {
     "data": {
      "text/html": [
       "<div>\n",
       "<table border=\"1\" class=\"dataframe\">\n",
       "  <thead>\n",
       "    <tr style=\"text-align: right;\">\n",
       "      <th></th>\n",
       "      <th>status</th>\n",
       "      <th>start</th>\n",
       "      <th>end</th>\n",
       "      <th>msg</th>\n",
       "    </tr>\n",
       "    <tr>\n",
       "      <th>ticker</th>\n",
       "      <th></th>\n",
       "      <th></th>\n",
       "      <th></th>\n",
       "      <th></th>\n",
       "    </tr>\n",
       "  </thead>\n",
       "  <tbody>\n",
       "    <tr>\n",
       "      <th>GLW</th>\n",
       "      <td>OK</td>\n",
       "      <td>2017-04-25 20:00:48.242490</td>\n",
       "      <td>2017-04-25 20:00:48.399032</td>\n",
       "      <td>NaN</td>\n",
       "    </tr>\n",
       "    <tr>\n",
       "      <th>HIMX</th>\n",
       "      <td>OK</td>\n",
       "      <td>2017-04-25 20:00:48.400632</td>\n",
       "      <td>2017-04-25 20:00:48.509206</td>\n",
       "      <td>NaN</td>\n",
       "    </tr>\n",
       "    <tr>\n",
       "      <th>GLUU</th>\n",
       "      <td>OK</td>\n",
       "      <td>2017-04-25 20:00:48.511008</td>\n",
       "      <td>2017-04-25 20:00:48.620722</td>\n",
       "      <td>NaN</td>\n",
       "    </tr>\n",
       "  </tbody>\n",
       "</table>\n",
       "</div>"
      ],
      "text/plain": [
       "       status                       start                         end  msg\n",
       "ticker                                                                    \n",
       "GLW        OK  2017-04-25 20:00:48.242490  2017-04-25 20:00:48.399032  NaN\n",
       "HIMX       OK  2017-04-25 20:00:48.400632  2017-04-25 20:00:48.509206  NaN\n",
       "GLUU       OK  2017-04-25 20:00:48.511008  2017-04-25 20:00:48.620722  NaN"
      ]
     },
     "execution_count": 8,
     "metadata": {},
     "output_type": "execute_result"
    }
   ],
   "source": [
    "trial.load_status_files()\n",
    "trial.featureengineer_status_df"
   ]
  },
  {
   "cell_type": "code",
   "execution_count": 9,
   "metadata": {
    "scrolled": false
   },
   "outputs": [
    {
     "data": {
      "text/html": [
       "<div>\n",
       "<table border=\"1\" class=\"dataframe\">\n",
       "  <thead>\n",
       "    <tr style=\"text-align: right;\">\n",
       "      <th></th>\n",
       "      <th>epochs</th>\n",
       "      <th>status</th>\n",
       "      <th>start</th>\n",
       "      <th>end</th>\n",
       "      <th>msg</th>\n",
       "      <th>loss</th>\n",
       "    </tr>\n",
       "    <tr>\n",
       "      <th>ticker</th>\n",
       "      <th></th>\n",
       "      <th></th>\n",
       "      <th></th>\n",
       "      <th></th>\n",
       "      <th></th>\n",
       "      <th></th>\n",
       "    </tr>\n",
       "  </thead>\n",
       "  <tbody>\n",
       "    <tr>\n",
       "      <th>GLW</th>\n",
       "      <td>1</td>\n",
       "      <td>OK</td>\n",
       "      <td>2017-04-25 20:00:48.628098</td>\n",
       "      <td>2017-04-25 20:01:13.083205</td>\n",
       "      <td>NaN</td>\n",
       "      <td>NaN</td>\n",
       "    </tr>\n",
       "    <tr>\n",
       "      <th>HIMX</th>\n",
       "      <td>1</td>\n",
       "      <td>OK</td>\n",
       "      <td>2017-04-25 20:01:13.091067</td>\n",
       "      <td>2017-04-25 20:01:37.494636</td>\n",
       "      <td>NaN</td>\n",
       "      <td>NaN</td>\n",
       "    </tr>\n",
       "    <tr>\n",
       "      <th>GLUU</th>\n",
       "      <td>1</td>\n",
       "      <td>OK</td>\n",
       "      <td>2017-04-25 20:01:37.505041</td>\n",
       "      <td>2017-04-25 20:02:01.918351</td>\n",
       "      <td>NaN</td>\n",
       "      <td>NaN</td>\n",
       "    </tr>\n",
       "  </tbody>\n",
       "</table>\n",
       "</div>"
      ],
      "text/plain": [
       "        epochs status                       start                         end  \\\n",
       "ticker                                                                          \n",
       "GLW          1     OK  2017-04-25 20:00:48.628098  2017-04-25 20:01:13.083205   \n",
       "HIMX         1     OK  2017-04-25 20:01:13.091067  2017-04-25 20:01:37.494636   \n",
       "GLUU         1     OK  2017-04-25 20:01:37.505041  2017-04-25 20:02:01.918351   \n",
       "\n",
       "        msg  loss  \n",
       "ticker             \n",
       "GLW     NaN   NaN  \n",
       "HIMX    NaN   NaN  \n",
       "GLUU    NaN   NaN  "
      ]
     },
     "execution_count": 9,
     "metadata": {},
     "output_type": "execute_result"
    }
   ],
   "source": [
    "trial.load_status_files()\n",
    "trial.train_status_df"
   ]
  },
  {
   "cell_type": "code",
   "execution_count": 10,
   "metadata": {},
   "outputs": [
    {
     "data": {
      "text/html": [
       "<div>\n",
       "<table border=\"1\" class=\"dataframe\">\n",
       "  <thead>\n",
       "    <tr style=\"text-align: right;\">\n",
       "      <th></th>\n",
       "      <th>epochs</th>\n",
       "      <th>status</th>\n",
       "      <th>start</th>\n",
       "      <th>end</th>\n",
       "      <th>r_squared</th>\n",
       "      <th>accuracy</th>\n",
       "    </tr>\n",
       "    <tr>\n",
       "      <th>ticker</th>\n",
       "      <th></th>\n",
       "      <th></th>\n",
       "      <th></th>\n",
       "      <th></th>\n",
       "      <th></th>\n",
       "      <th></th>\n",
       "    </tr>\n",
       "  </thead>\n",
       "  <tbody>\n",
       "    <tr>\n",
       "      <th>GLW</th>\n",
       "      <td>1</td>\n",
       "      <td>OK</td>\n",
       "      <td>2017-04-25 20:02:03.977935</td>\n",
       "      <td>2017-04-25 20:02:06.232768</td>\n",
       "      <td>-0.756710</td>\n",
       "      <td>0.285714</td>\n",
       "    </tr>\n",
       "    <tr>\n",
       "      <th>HIMX</th>\n",
       "      <td>1</td>\n",
       "      <td>OK</td>\n",
       "      <td>2017-04-25 20:02:06.238694</td>\n",
       "      <td>2017-04-25 20:02:08.247200</td>\n",
       "      <td>-0.352219</td>\n",
       "      <td>0.021277</td>\n",
       "    </tr>\n",
       "    <tr>\n",
       "      <th>GLUU</th>\n",
       "      <td>1</td>\n",
       "      <td>OK</td>\n",
       "      <td>2017-04-25 20:02:08.253179</td>\n",
       "      <td>2017-04-25 20:02:10.344440</td>\n",
       "      <td>-0.378659</td>\n",
       "      <td>0.045593</td>\n",
       "    </tr>\n",
       "  </tbody>\n",
       "</table>\n",
       "</div>"
      ],
      "text/plain": [
       "        epochs status                       start                         end  \\\n",
       "ticker                                                                          \n",
       "GLW          1     OK  2017-04-25 20:02:03.977935  2017-04-25 20:02:06.232768   \n",
       "HIMX         1     OK  2017-04-25 20:02:06.238694  2017-04-25 20:02:08.247200   \n",
       "GLUU         1     OK  2017-04-25 20:02:08.253179  2017-04-25 20:02:10.344440   \n",
       "\n",
       "        r_squared  accuracy  \n",
       "ticker                       \n",
       "GLW     -0.756710  0.285714  \n",
       "HIMX    -0.352219  0.021277  \n",
       "GLUU    -0.378659  0.045593  "
      ]
     },
     "execution_count": 10,
     "metadata": {},
     "output_type": "execute_result"
    }
   ],
   "source": [
    "trial.load_status_files()\n",
    "trial.eval_status_df"
   ]
  },
  {
   "cell_type": "code",
   "execution_count": null,
   "metadata": {
    "collapsed": true
   },
   "outputs": [],
   "source": []
  }
 ],
 "metadata": {
  "anaconda-cloud": {},
  "kernelspec": {
   "display_name": "Python 3",
   "language": "python",
   "name": "python3"
  },
  "language_info": {
   "codemirror_mode": {
    "name": "ipython",
    "version": 3
   },
   "file_extension": ".py",
   "mimetype": "text/x-python",
   "name": "python",
   "nbconvert_exporter": "python",
   "pygments_lexer": "ipython3",
   "version": "3.5.2"
  }
 },
 "nbformat": 4,
 "nbformat_minor": 2
}
