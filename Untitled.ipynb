{
 "cells": [
  {
   "cell_type": "code",
   "execution_count": 1,
   "metadata": {
    "collapsed": false
   },
   "outputs": [],
   "source": [
    "%load_ext autoreload\n",
    "%autoreload 2"
   ]
  },
  {
   "cell_type": "code",
   "execution_count": 4,
   "metadata": {
    "collapsed": true
   },
   "outputs": [],
   "source": [
    "import datetime\n",
    "import pandas as pd\n",
    "import numpy as np\n",
    "from functools import partial\n",
    "from dateutil import parser as dtparser\n",
    "\n",
    "from utils.datafetch import *\n",
    "from utils.vectorized_funs import *\n",
    "from utils.datapipe import *"
   ]
  },
  {
   "cell_type": "markdown",
   "metadata": {},
   "source": [
    "## Loading all tickers"
   ]
  },
  {
   "cell_type": "code",
   "execution_count": 7,
   "metadata": {
    "collapsed": false
   },
   "outputs": [
    {
     "name": "stdout",
     "output_type": "stream",
     "text": [
      "amex has 400 tickers.\n",
      "nasdaq has 3081 tickers.\n",
      "nyse has 3299 tickers.\n",
      "\n",
      "\n",
      "Final dataset has 6780 records\n",
      "(NOK) Final dataset has duplicate tickers (6779 distinct)\n",
      "(1/100) Recv. and Stored XXII\n",
      "(2/100) Recv. and Stored FAX\n",
      "(3/100) Recv. and Stored IAF\n",
      "(4/100) Recv. and Stored CH\n",
      "(5/100) ERROR receiving ABE           \n",
      "(6/100) Recv. and Stored FCO\n",
      "(7/100) Recv. and Stored IF\n",
      "(8/100) Recv. and Stored ISL\n",
      "(9/100) Recv. and Stored ACU\n",
      "(10/100) Recv. and Stored AIII\n",
      "(11/100) Recv. and Stored ATNM\n",
      "(12/100) Recv. and Stored AE\n",
      "(13/100) Recv. and Stored ADK\n",
      "(14/100) ERROR receiving ADK^A\n",
      "(15/100) Recv. and Stored ACY\n",
      "(16/100) Recv. and Stored WGA\n",
      "(17/100) Recv. and Stored AIRI\n",
      "(18/100) ERROR receiving AA^\n",
      "(19/100) ERROR receiving AXX\n",
      "(20/100) Recv. and Stored AXU\n",
      "(21/100) Recv. and Stored AAU\n",
      "(22/100) Recv. and Stored APT\n",
      "(23/100) ERROR receiving ALTV\n",
      "(24/100) Recv. and Stored AAMC\n",
      "(25/100) Recv. and Stored DIT\n",
      "(26/100) ERROR receiving APP\n",
      "(27/100) Recv. and Stored ADGE\n",
      "(28/100) Recv. and Stored ALN\n",
      "(29/100) Recv. and Stored AMS\n",
      "(30/100) Recv. and Stored AMPE\n",
      "(31/100) Recv. and Stored AXN\n",
      "(32/100) Recv. and Stored AMCO\n",
      "(33/100) Recv. and Stored HRT\n",
      "(34/100) Recv. and Stored AKG\n",
      "(35/100) Recv. and Stored AINC\n",
      "(36/100) ERROR receiving ASB.WS\n",
      "(37/100) Recv. and Stored AST\n",
      "(38/100) Recv. and Stored AWX\n",
      "(39/100) ERROR receiving AVL\n",
      "(40/100) Recv. and Stored ASM\n",
      "(41/100) Recv. and Stored BTG\n",
      "(42/100) Recv. and Stored BTN\n",
      "(43/100) Recv. and Stored BKJ\n",
      "(44/100) Recv. and Stored BCV\n",
      "(45/100) Recv. and Stored BAA\n",
      "(46/100) Recv. and Stored BHB\n",
      "(47/100) Recv. and Stored BRN\n",
      "(48/100) ERROR receiving BIR^A\n",
      "(49/100) Recv. and Stored BGSF\n",
      "(50/100) Recv. and Stored BPMX\n",
      "(51/100) Recv. and Stored BTX\n",
      "(52/100) ERROR receiving BTX.WS\n",
      "(53/100) Recv. and Stored BGI\n",
      "(54/100) Recv. and Stored BZM\n",
      "(55/100) Recv. and Stored MHE\n",
      "(56/100) Recv. and Stored BLE\n",
      "(57/100) Recv. and Stored BLJ\n",
      "(58/100) Recv. and Stored BFY\n",
      "(59/100) Recv. and Stored BHV\n",
      "(60/100) Recv. and Stored BDR\n",
      "(61/100) Recv. and Stored BRG\n",
      "(62/100) Recv. and Stored BVX\n",
      "(63/100) ERROR receiving BWL.A\n",
      "(64/100) ERROR receiving BZC\n",
      "(65/100) Recv. and Stored BTI\n",
      "(66/100) Recv. and Stored CANF\n",
      "(67/100) Recv. and Stored ROX\n",
      "(68/100) Recv. and Stored CAW\n",
      "(69/100) Recv. and Stored CVM\n",
      "(70/100) ERROR receiving CVM.WS\n",
      "(71/100) Recv. and Stored CEF\n",
      "(72/100) ERROR receiving GTU\n",
      "(73/100) Recv. and Stored CET\n",
      "(74/100) Recv. and Stored LEU\n",
      "(75/100) Recv. and Stored CCF\n",
      "(76/100) Recv. and Stored CQH\n",
      "(77/100) Recv. and Stored CQP\n",
      "(78/100) Recv. and Stored LNG\n",
      "(79/100) Recv. and Stored CVR\n",
      "(80/100) Recv. and Stored CNR\n",
      "(81/100) Recv. and Stored CPHI\n",
      "(82/100) Recv. and Stored CKX\n",
      "(83/100) Recv. and Stored GLV\n",
      "(84/100) Recv. and Stored GLQ\n",
      "(85/100) Recv. and Stored GLO\n",
      "(86/100) ERROR receiving CRV\n",
      "(87/100) Recv. and Stored MOC\n",
      "(88/100) Recv. and Stored CIX\n",
      "(89/100) Recv. and Stored LODE\n",
      "(90/100) Recv. and Stored CTO\n",
      "(91/100) Recv. and Stored MCF\n",
      "(92/100) Recv. and Stored CUO\n",
      "(93/100) Recv. and Stored CMT\n",
      "(94/100) Recv. and Stored CVRS\n",
      "(95/100) Recv. and Stored CRMD\n",
      "(96/100) Recv. and Stored CRF\n",
      "(97/100) Recv. and Stored CLM\n",
      "(98/100) Recv. and Stored CVU\n",
      "(99/100) Recv. and Stored CIK\n",
      "(100/100) Recv. and Stored DHY\n",
      "Took 0:00:28.907075\n"
     ]
    }
   ],
   "source": [
    "# load tickers list\n",
    "rr = load_exchangesinfos()\n",
    "rr = rr.drop([2922])\n",
    "\n",
    "ticker_list = rr.iloc[0:100][\"Symbol\"].values\n",
    "#ticker_list = rr[\"Symbol\"].values\n",
    "\n",
    "\n",
    "# Fetch data for all tickers\n",
    "_r = initial_dataload(ticker_list, verbose=True, del_temp=True)\n",
    "\n",
    "\n",
    "\n",
    "# Store the results from the data fetching\n",
    "OKs = [\"OK\" for x in _r[\"OK\"]]\n",
    "NOKs = [\"NOK\" for x in _r[\"NOK\"]]\n",
    "\n",
    "o = pd.DataFrame([OKs, _r[\"OK\"]]).T\n",
    "n = pd.DataFrame([NOKs, _r[\"NOK\"]]).T\n",
    "\n",
    "d = pd.concat([o, n], axis=0)\n",
    "d.columns = [\"STATUS\", \"Symbol\"]\n",
    "d.to_csv(\"RES_initial_dataload.csv\", index=False)"
   ]
  },
  {
   "cell_type": "markdown",
   "metadata": {},
   "source": [
    "## Feature Engineering"
   ]
  },
  {
   "cell_type": "code",
   "execution_count": null,
   "metadata": {
    "collapsed": false,
    "scrolled": true
   },
   "outputs": [
    {
     "name": "stdout",
     "output_type": "stream",
     "text": [
      "\n",
      "\n",
      " - XXII - \n",
      "\n",
      "| | START     - 2017-03-16 22:45:40.475923\n",
      "\\ / SMA       - 0:00:00.058047\n",
      "\\ / RETURNS   - 0:00:00.067982\n",
      "\\ / DIFF MOVE - 0:00:00.066528\n",
      "\\ / BOLLINGER - 0:00:00.098348\n",
      "\\ / ALPHABETA - 0:00:29.915016\n",
      " V  END       - 2017-03-16 22:46:10.681844 (TOOK 0:00:30.205921)\n",
      "| | START     - 2017-03-16 22:46:10.682041\n",
      "\\ / AM DIFF       - 0:00:00.001767\n",
      "\\ / AM RETURNS   - 0:00:00.001656\n",
      "\\ / AM SMA - 0:00:00.040155\n",
      "\\ / AM BOLLINGER - 0:00:00.052457\n",
      "\\ / HL DIFF - 0:00:00.001059\n",
      "\\ / CL DIFF - 0:00:00.001028\n",
      "\\ / CH DIFF - 0:00:00.001001\n",
      " V  END       - 2017-03-16 22:46:10.781207 (TOOK 0:00:00.099166)\n",
      "\n",
      "\n",
      " - FAX - \n",
      "\n",
      "| | START     - 2017-03-16 22:46:11.858997\n",
      "\\ / SMA       - 0:00:00.052622\n",
      "\\ / RETURNS   - 0:00:00.067769\n",
      "\\ / DIFF MOVE - 0:00:00.060482\n",
      "\\ / BOLLINGER - 0:00:00.090550\n",
      "\\ / ALPHABETA - 0:00:28.561714\n",
      " V  END       - 2017-03-16 22:46:40.692134 (TOOK 0:00:28.833137)\n",
      "| | START     - 2017-03-16 22:46:40.692346\n",
      "\\ / AM DIFF       - 0:00:00.001614\n",
      "\\ / AM RETURNS   - 0:00:00.001482\n",
      "\\ / AM SMA - 0:00:00.036045\n",
      "\\ / AM BOLLINGER - 0:00:00.046719\n",
      "\\ / HL DIFF - 0:00:00.000954\n",
      "\\ / CL DIFF - 0:00:00.000922\n",
      "\\ / CH DIFF - 0:00:00.000896\n",
      " V  END       - 2017-03-16 22:46:40.781017 (TOOK 0:00:00.088671)\n",
      "\n",
      "\n",
      " - IAF - \n",
      "\n",
      "| | START     - 2017-03-16 22:46:41.776438\n",
      "\\ / SMA       - 0:00:00.059976\n",
      "\\ / RETURNS   - 0:00:00.074209\n",
      "\\ / DIFF MOVE - 0:00:00.065307\n",
      "\\ / BOLLINGER - 0:00:00.097680\n"
     ]
    }
   ],
   "source": [
    "## Only work with tickers that were successfull during datafetch\n",
    "ticker_list = pd.read_csv(\"RES_initial_dataload.csv\")\n",
    "ticker_list = ticker_list[ticker_list[\"STATUS\"] == \"OK\"]\n",
    "\n",
    "\n",
    "for ix, row in ticker_list.iterrows():\n",
    "    itr_ticker = row[\"Symbol\"]\n",
    "    print(\"\\n\\n - {} - \\n\".format(itr_ticker))\n",
    "    itr_df = load_raw_frame(\"AAPL\", parseDate=False)\n",
    "    \n",
    "    #Lets get only from 2010 onward\n",
    "    itr_df = itr_df[pd.to_datetime(itr_df[\"Date\"]) >= dtparser.parse('2010-01-01')]\n",
    "    \n",
    "    itr_df = calc_measures_tier1(itr_df, verbose=True)\n",
    "    itr_df = calc_measures_tier2(itr_df, verbose=True)\n",
    "    store_tier2_frame(itr_df, itr_ticker)"
   ]
  },
  {
   "cell_type": "code",
   "execution_count": null,
   "metadata": {
    "collapsed": true
   },
   "outputs": [],
   "source": []
  }
 ],
 "metadata": {
  "kernelspec": {
   "display_name": "Python 3",
   "language": "python",
   "name": "python3"
  },
  "language_info": {
   "codemirror_mode": {
    "name": "ipython",
    "version": 3
   },
   "file_extension": ".py",
   "mimetype": "text/x-python",
   "name": "python",
   "nbconvert_exporter": "python",
   "pygments_lexer": "ipython3",
   "version": "3.5.2"
  },
  "widgets": {
   "state": {},
   "version": "1.1.1"
  }
 },
 "nbformat": 4,
 "nbformat_minor": 0
}
