{
 "cells": [
  {
   "cell_type": "code",
   "execution_count": 45,
   "metadata": {
    "scrolled": false
   },
   "outputs": [
    {
     "name": "stdout",
     "output_type": "stream",
     "text": [
      "The autoreload extension is already loaded. To reload it, use:\n",
      "  %reload_ext autoreload\n"
     ]
    },
    {
     "name": "stderr",
     "output_type": "stream",
     "text": [
      "[autoreload of FintechCapstone failed: Traceback (most recent call last):\n",
      "  File \"/opt/conda/lib/python3.5/site-packages/IPython/extensions/autoreload.py\", line 247, in check\n",
      "    superreload(m, reload, self.old_objects)\n",
      "  File \"/home/jovyan/work/FintechCapstone/FintechCapstone.py\", line 27\n",
      "    model_name=\"ExampleFintech\",\n",
      "             ^\n",
      "SyntaxError: invalid syntax\n",
      "]\n"
     ]
    }
   ],
   "source": [
    "%load_ext autoreload\n",
    "%autoreload 2"
   ]
  },
  {
   "cell_type": "code",
   "execution_count": 46,
   "metadata": {
    "collapsed": true
   },
   "outputs": [],
   "source": [
    "from __future__ import print_function\n",
    "\n",
    "import datetime\n",
    "import pandas as pd\n",
    "import numpy as np\n",
    "from dateutil import parser as dtparser\n",
    "\n",
    "from utils.datafetch import *\n",
    "from utils.vectorized_funs import *\n",
    "from utils.datapipe import *\n",
    "from utils.kerasutil import *\n",
    "from utils import scenarioa\n",
    "from FintechCapstone import FinCapstone\n",
    "\n",
    "import matplotlib as mpl\n",
    "import matplotlib.pyplot as plt\n",
    "import seaborn as sns\n",
    "from sklearn.decomposition import PCA"
   ]
  },
  {
   "cell_type": "code",
   "execution_count": 47,
   "metadata": {
    "scrolled": false
   },
   "outputs": [],
   "source": [
    "%matplotlib inline\n",
    "\n",
    "plt.style.use('seaborn-whitegrid')\n",
    "date_from = '2009-01-01'\n",
    "date_to = '2017-03-01'\n",
    "timespan = {\n",
    "    \"short_term\": [1, 5]\n",
    "    ,\"medium_term\": [40]\n",
    "    ,\"long_term\": [90]\n",
    "}\n",
    "\n",
    "trial = FinCapstone(ticker_list=[\"GLW\",\"HIMX\",\"GLUU\"], ticker_list_samplesize=4, timespan=timespan, date_from=date_from)\n",
    "#trial = FinCapstone(ticker_list=[\"ZHNE\",\"BSFT\",\"AERO\",\"MATR\",\"ITMSF\",\"FIT\",\"TIPT\",\"OLBK\",\"QADA\",\"ATTU\",\"LGF\",\"STX\",\"TPCS\",\"GSAT\",\"ZNGA\",\"GLW\",\"HIMX\",\"YHOO\", \"NWSA\",\"JAKK\",\"GLUU\",\"AMZN\", \"AAPL\", \"EBAY\", \"GOOG\", \"DIS\", \"NFLX\", \"EA\", \"TWTR\", \"FB\", \"TTWO\", \"PXLW\", \"UBI\"], ticker_list_samplesize=4, timespan=timespan, timespan_ab=timespan_ab, date_from=date_from)\n",
    "#trial = FinCapstone(ticker_list_samplesize=200, timespan=timespan, timespan_ab=timespan_ab, date_from=date_from)\n",
    "\n",
    "#trial.run_initial_dataload()\n",
    "#trial.feature_engineering(feature_set=\"scenarioa\")"
   ]
  },
  {
   "cell_type": "code",
   "execution_count": 25,
   "metadata": {
    "collapsed": true
   },
   "outputs": [],
   "source": [
    "X = trial.load_scenarioa_features(\"GLUU\", True)\n",
    "y = trial.load_scenarioa_labels(\"GLUU\", True)"
   ]
  },
  {
   "cell_type": "code",
   "execution_count": 26,
   "metadata": {},
   "outputs": [
    {
     "data": {
      "text/html": [
       "<div>\n",
       "<table border=\"1\" class=\"dataframe\">\n",
       "  <thead>\n",
       "    <tr style=\"text-align: right;\">\n",
       "      <th></th>\n",
       "      <th>Date</th>\n",
       "      <th>Close</th>\n",
       "      <th>SMA_5</th>\n",
       "      <th>SMA_30</th>\n",
       "      <th>SMA_60</th>\n",
       "      <th>SMA_200</th>\n",
       "      <th>BOLL_5_UP</th>\n",
       "      <th>BOLL_5_DOWN</th>\n",
       "      <th>BOLL_30_UP</th>\n",
       "      <th>BOLL_30_DOWN</th>\n",
       "      <th>...</th>\n",
       "      <th>STOCOSCILATOR_14</th>\n",
       "      <th>STOCOSCILATOR_14_SMA</th>\n",
       "      <th>ADX</th>\n",
       "      <th>ADX_PDI</th>\n",
       "      <th>ADX_NDI</th>\n",
       "      <th>AROONUP_20</th>\n",
       "      <th>AROONDOWN_20</th>\n",
       "      <th>CHAIKIN_MFLOW_21</th>\n",
       "      <th>DAILY_MFLOW_21</th>\n",
       "      <th>OBV</th>\n",
       "    </tr>\n",
       "  </thead>\n",
       "  <tbody>\n",
       "    <tr>\n",
       "      <th>0</th>\n",
       "      <td>2009-01-02</td>\n",
       "      <td>0.49</td>\n",
       "      <td>0.0</td>\n",
       "      <td>0.0</td>\n",
       "      <td>0.0</td>\n",
       "      <td>0.0</td>\n",
       "      <td>0.000000</td>\n",
       "      <td>0.000000</td>\n",
       "      <td>0.0</td>\n",
       "      <td>0.0</td>\n",
       "      <td>...</td>\n",
       "      <td>0.0</td>\n",
       "      <td>0.0</td>\n",
       "      <td>0.99992</td>\n",
       "      <td>0.571531</td>\n",
       "      <td>0.554785</td>\n",
       "      <td>0.0</td>\n",
       "      <td>0.0</td>\n",
       "      <td>0.506242</td>\n",
       "      <td>0.423777</td>\n",
       "      <td>-114693.877551</td>\n",
       "    </tr>\n",
       "    <tr>\n",
       "      <th>1</th>\n",
       "      <td>2009-01-05</td>\n",
       "      <td>0.50</td>\n",
       "      <td>0.0</td>\n",
       "      <td>0.0</td>\n",
       "      <td>0.0</td>\n",
       "      <td>0.0</td>\n",
       "      <td>0.000000</td>\n",
       "      <td>0.000000</td>\n",
       "      <td>0.0</td>\n",
       "      <td>0.0</td>\n",
       "      <td>...</td>\n",
       "      <td>0.0</td>\n",
       "      <td>0.0</td>\n",
       "      <td>0.99992</td>\n",
       "      <td>0.571531</td>\n",
       "      <td>0.554785</td>\n",
       "      <td>0.0</td>\n",
       "      <td>0.0</td>\n",
       "      <td>0.506242</td>\n",
       "      <td>0.424939</td>\n",
       "      <td>-72000.000000</td>\n",
       "    </tr>\n",
       "    <tr>\n",
       "      <th>2</th>\n",
       "      <td>2009-01-06</td>\n",
       "      <td>0.76</td>\n",
       "      <td>0.0</td>\n",
       "      <td>0.0</td>\n",
       "      <td>0.0</td>\n",
       "      <td>0.0</td>\n",
       "      <td>0.000000</td>\n",
       "      <td>0.000000</td>\n",
       "      <td>0.0</td>\n",
       "      <td>0.0</td>\n",
       "      <td>...</td>\n",
       "      <td>0.0</td>\n",
       "      <td>0.0</td>\n",
       "      <td>0.99992</td>\n",
       "      <td>0.571531</td>\n",
       "      <td>0.554785</td>\n",
       "      <td>0.0</td>\n",
       "      <td>0.0</td>\n",
       "      <td>0.506242</td>\n",
       "      <td>0.428664</td>\n",
       "      <td>210394.736842</td>\n",
       "    </tr>\n",
       "    <tr>\n",
       "      <th>3</th>\n",
       "      <td>2009-01-07</td>\n",
       "      <td>0.70</td>\n",
       "      <td>0.0</td>\n",
       "      <td>0.0</td>\n",
       "      <td>0.0</td>\n",
       "      <td>0.0</td>\n",
       "      <td>0.000000</td>\n",
       "      <td>0.000000</td>\n",
       "      <td>0.0</td>\n",
       "      <td>0.0</td>\n",
       "      <td>...</td>\n",
       "      <td>0.0</td>\n",
       "      <td>0.0</td>\n",
       "      <td>0.99992</td>\n",
       "      <td>0.571531</td>\n",
       "      <td>0.554785</td>\n",
       "      <td>0.0</td>\n",
       "      <td>0.0</td>\n",
       "      <td>0.506242</td>\n",
       "      <td>0.423576</td>\n",
       "      <td>80428.571429</td>\n",
       "    </tr>\n",
       "    <tr>\n",
       "      <th>4</th>\n",
       "      <td>2009-01-08</td>\n",
       "      <td>0.70</td>\n",
       "      <td>0.9</td>\n",
       "      <td>0.0</td>\n",
       "      <td>0.0</td>\n",
       "      <td>0.0</td>\n",
       "      <td>1.259137</td>\n",
       "      <td>0.540863</td>\n",
       "      <td>0.0</td>\n",
       "      <td>0.0</td>\n",
       "      <td>...</td>\n",
       "      <td>0.0</td>\n",
       "      <td>0.0</td>\n",
       "      <td>0.99992</td>\n",
       "      <td>0.571531</td>\n",
       "      <td>0.554785</td>\n",
       "      <td>0.0</td>\n",
       "      <td>0.0</td>\n",
       "      <td>0.506242</td>\n",
       "      <td>0.424338</td>\n",
       "      <td>122000.000000</td>\n",
       "    </tr>\n",
       "  </tbody>\n",
       "</table>\n",
       "<p>5 rows × 30 columns</p>\n",
       "</div>"
      ],
      "text/plain": [
       "        Date  Close  SMA_5  SMA_30  SMA_60  SMA_200  BOLL_5_UP  BOLL_5_DOWN  \\\n",
       "0 2009-01-02   0.49    0.0     0.0     0.0      0.0   0.000000     0.000000   \n",
       "1 2009-01-05   0.50    0.0     0.0     0.0      0.0   0.000000     0.000000   \n",
       "2 2009-01-06   0.76    0.0     0.0     0.0      0.0   0.000000     0.000000   \n",
       "3 2009-01-07   0.70    0.0     0.0     0.0      0.0   0.000000     0.000000   \n",
       "4 2009-01-08   0.70    0.9     0.0     0.0      0.0   1.259137     0.540863   \n",
       "\n",
       "   BOLL_30_UP  BOLL_30_DOWN      ...        STOCOSCILATOR_14  \\\n",
       "0         0.0           0.0      ...                     0.0   \n",
       "1         0.0           0.0      ...                     0.0   \n",
       "2         0.0           0.0      ...                     0.0   \n",
       "3         0.0           0.0      ...                     0.0   \n",
       "4         0.0           0.0      ...                     0.0   \n",
       "\n",
       "   STOCOSCILATOR_14_SMA      ADX   ADX_PDI   ADX_NDI  AROONUP_20  \\\n",
       "0                   0.0  0.99992  0.571531  0.554785         0.0   \n",
       "1                   0.0  0.99992  0.571531  0.554785         0.0   \n",
       "2                   0.0  0.99992  0.571531  0.554785         0.0   \n",
       "3                   0.0  0.99992  0.571531  0.554785         0.0   \n",
       "4                   0.0  0.99992  0.571531  0.554785         0.0   \n",
       "\n",
       "   AROONDOWN_20  CHAIKIN_MFLOW_21  DAILY_MFLOW_21            OBV  \n",
       "0           0.0          0.506242        0.423777 -114693.877551  \n",
       "1           0.0          0.506242        0.424939  -72000.000000  \n",
       "2           0.0          0.506242        0.428664  210394.736842  \n",
       "3           0.0          0.506242        0.423576   80428.571429  \n",
       "4           0.0          0.506242        0.424338  122000.000000  \n",
       "\n",
       "[5 rows x 30 columns]"
      ]
     },
     "execution_count": 26,
     "metadata": {},
     "output_type": "execute_result"
    }
   ],
   "source": [
    "X.head()"
   ]
  },
  {
   "cell_type": "code",
   "execution_count": 27,
   "metadata": {},
   "outputs": [
    {
     "data": {
      "text/html": [
       "<div>\n",
       "<table border=\"1\" class=\"dataframe\">\n",
       "  <thead>\n",
       "    <tr style=\"text-align: right;\">\n",
       "      <th></th>\n",
       "      <th>Date</th>\n",
       "      <th>RETURN_1</th>\n",
       "      <th>RETURN_30</th>\n",
       "      <th>RETURN_60</th>\n",
       "      <th>RETURN_200</th>\n",
       "    </tr>\n",
       "  </thead>\n",
       "  <tbody>\n",
       "    <tr>\n",
       "      <th>0</th>\n",
       "      <td>2009-01-02</td>\n",
       "      <td>0.020408</td>\n",
       "      <td>0.020408</td>\n",
       "      <td>-0.020408</td>\n",
       "      <td>1.632653</td>\n",
       "    </tr>\n",
       "    <tr>\n",
       "      <th>1</th>\n",
       "      <td>2009-01-05</td>\n",
       "      <td>0.520000</td>\n",
       "      <td>0.080000</td>\n",
       "      <td>0.060000</td>\n",
       "      <td>1.380000</td>\n",
       "    </tr>\n",
       "    <tr>\n",
       "      <th>2</th>\n",
       "      <td>2009-01-06</td>\n",
       "      <td>-0.078947</td>\n",
       "      <td>-0.250000</td>\n",
       "      <td>-0.197368</td>\n",
       "      <td>0.342105</td>\n",
       "    </tr>\n",
       "    <tr>\n",
       "      <th>3</th>\n",
       "      <td>2009-01-07</td>\n",
       "      <td>0.000000</td>\n",
       "      <td>-0.228571</td>\n",
       "      <td>-0.057143</td>\n",
       "      <td>0.571429</td>\n",
       "    </tr>\n",
       "    <tr>\n",
       "      <th>4</th>\n",
       "      <td>2009-01-08</td>\n",
       "      <td>0.157143</td>\n",
       "      <td>-0.257143</td>\n",
       "      <td>0.042857</td>\n",
       "      <td>0.642857</td>\n",
       "    </tr>\n",
       "  </tbody>\n",
       "</table>\n",
       "</div>"
      ],
      "text/plain": [
       "        Date  RETURN_1  RETURN_30  RETURN_60  RETURN_200\n",
       "0 2009-01-02  0.020408   0.020408  -0.020408    1.632653\n",
       "1 2009-01-05  0.520000   0.080000   0.060000    1.380000\n",
       "2 2009-01-06 -0.078947  -0.250000  -0.197368    0.342105\n",
       "3 2009-01-07  0.000000  -0.228571  -0.057143    0.571429\n",
       "4 2009-01-08  0.157143  -0.257143   0.042857    0.642857"
      ]
     },
     "execution_count": 27,
     "metadata": {},
     "output_type": "execute_result"
    }
   ],
   "source": [
    "y.head()"
   ]
  },
  {
   "cell_type": "code",
   "execution_count": 29,
   "metadata": {
    "scrolled": false
   },
   "outputs": [
    {
     "data": {
      "text/plain": [
       "<class 'pandas.core.panel.Panel'>\n",
       "Dimensions: 1510 (items) x 29 (major_axis) x 3 (minor_axis)\n",
       "Items axis: 2010-01-04 00:00:00 to 2015-12-31 00:00:00\n",
       "Major_axis axis: Close to OBV\n",
       "Minor_axis axis: GLUU to HIMX"
      ]
     },
     "execution_count": 29,
     "metadata": {},
     "output_type": "execute_result"
    }
   ],
   "source": [
    "features_df = trial.load_scenarioa_features(\"GLUU\", parseDate=True)\n",
    "features_df.set_index(\"Date\", inplace=True)\n",
    "\n",
    "labels_df = trial.load_scenarioa_labels(\"GLUU\", parseDate=True)\n",
    "labels_df.set_index(\"Date\", inplace=True)\n",
    "\n",
    "model = scenarioa.create_model(3)\n",
    "X_train, y_train, X_test, y_test = scenarioa.prepare_problemspace(\"GLUU\", trial.valid_ticker_list(), trial.train_from, trial.train_until, trial.test_from)\n",
    "X_train\n"
   ]
  },
  {
   "cell_type": "code",
   "execution_count": 30,
   "metadata": {
    "collapsed": true
   },
   "outputs": [],
   "source": [
    "X_train, y_train, X_test, y_test = scenarioa.prepare_problemspace(\"GLUU\", trial.valid_ticker_list(), trial.train_from, trial.train_until, trial.test_from, True)"
   ]
  },
  {
   "cell_type": "code",
   "execution_count": 31,
   "metadata": {},
   "outputs": [
    {
     "data": {
      "text/plain": [
       "<class 'pandas.core.panel.Panel'>\n",
       "Dimensions: 1510 (items) x 29 (major_axis) x 3 (minor_axis)\n",
       "Items axis: 2010-01-04 00:00:00 to 2015-12-31 00:00:00\n",
       "Major_axis axis: Close to OBV\n",
       "Minor_axis axis: GLUU to HIMX"
      ]
     },
     "execution_count": 31,
     "metadata": {},
     "output_type": "execute_result"
    }
   ],
   "source": [
    "X_train"
   ]
  },
  {
   "cell_type": "code",
   "execution_count": 32,
   "metadata": {},
   "outputs": [
    {
     "data": {
      "text/html": [
       "<div>\n",
       "<table border=\"1\" class=\"dataframe\">\n",
       "  <thead>\n",
       "    <tr style=\"text-align: right;\">\n",
       "      <th></th>\n",
       "      <th>RETURN_1</th>\n",
       "      <th>RETURN_30</th>\n",
       "      <th>RETURN_60</th>\n",
       "      <th>RETURN_200</th>\n",
       "    </tr>\n",
       "    <tr>\n",
       "      <th>Date</th>\n",
       "      <th></th>\n",
       "      <th></th>\n",
       "      <th></th>\n",
       "      <th></th>\n",
       "    </tr>\n",
       "  </thead>\n",
       "  <tbody>\n",
       "    <tr>\n",
       "      <th>2010-01-04</th>\n",
       "      <td>0.049587</td>\n",
       "      <td>-0.132231</td>\n",
       "      <td>-0.190083</td>\n",
       "      <td>0.363636</td>\n",
       "    </tr>\n",
       "    <tr>\n",
       "      <th>2010-01-05</th>\n",
       "      <td>0.000000</td>\n",
       "      <td>-0.181102</td>\n",
       "      <td>-0.212598</td>\n",
       "      <td>0.322835</td>\n",
       "    </tr>\n",
       "    <tr>\n",
       "      <th>2010-01-06</th>\n",
       "      <td>0.031496</td>\n",
       "      <td>-0.188976</td>\n",
       "      <td>-0.212598</td>\n",
       "      <td>0.393701</td>\n",
       "    </tr>\n",
       "    <tr>\n",
       "      <th>2010-01-07</th>\n",
       "      <td>0.106870</td>\n",
       "      <td>-0.259542</td>\n",
       "      <td>-0.206107</td>\n",
       "      <td>0.343511</td>\n",
       "    </tr>\n",
       "    <tr>\n",
       "      <th>2010-01-08</th>\n",
       "      <td>-0.013793</td>\n",
       "      <td>-0.365517</td>\n",
       "      <td>-0.275862</td>\n",
       "      <td>0.151724</td>\n",
       "    </tr>\n",
       "  </tbody>\n",
       "</table>\n",
       "</div>"
      ],
      "text/plain": [
       "            RETURN_1  RETURN_30  RETURN_60  RETURN_200\n",
       "Date                                                  \n",
       "2010-01-04  0.049587  -0.132231  -0.190083    0.363636\n",
       "2010-01-05  0.000000  -0.181102  -0.212598    0.322835\n",
       "2010-01-06  0.031496  -0.188976  -0.212598    0.393701\n",
       "2010-01-07  0.106870  -0.259542  -0.206107    0.343511\n",
       "2010-01-08 -0.013793  -0.365517  -0.275862    0.151724"
      ]
     },
     "execution_count": 32,
     "metadata": {},
     "output_type": "execute_result"
    }
   ],
   "source": [
    "y_train.head()"
   ]
  },
  {
   "cell_type": "code",
   "execution_count": 33,
   "metadata": {},
   "outputs": [
    {
     "data": {
      "text/plain": [
       "<class 'pandas.core.panel.Panel'>\n",
       "Dimensions: 328 (items) x 29 (major_axis) x 3 (minor_axis)\n",
       "Items axis: 2016-01-04 00:00:00 to 2017-04-21 00:00:00\n",
       "Major_axis axis: Close to OBV\n",
       "Minor_axis axis: GLUU to HIMX"
      ]
     },
     "execution_count": 33,
     "metadata": {},
     "output_type": "execute_result"
    }
   ],
   "source": [
    "X_test"
   ]
  },
  {
   "cell_type": "code",
   "execution_count": 34,
   "metadata": {},
   "outputs": [
    {
     "data": {
      "text/html": [
       "<div>\n",
       "<table border=\"1\" class=\"dataframe\">\n",
       "  <thead>\n",
       "    <tr style=\"text-align: right;\">\n",
       "      <th></th>\n",
       "      <th>RETURN_1</th>\n",
       "      <th>RETURN_30</th>\n",
       "      <th>RETURN_60</th>\n",
       "      <th>RETURN_200</th>\n",
       "    </tr>\n",
       "    <tr>\n",
       "      <th>Date</th>\n",
       "      <th></th>\n",
       "      <th></th>\n",
       "      <th></th>\n",
       "      <th></th>\n",
       "    </tr>\n",
       "  </thead>\n",
       "  <tbody>\n",
       "    <tr>\n",
       "      <th>2016-01-04</th>\n",
       "      <td>-0.012397</td>\n",
       "      <td>0.479339</td>\n",
       "      <td>0.165289</td>\n",
       "      <td>-0.148760</td>\n",
       "    </tr>\n",
       "    <tr>\n",
       "      <th>2016-01-05</th>\n",
       "      <td>-0.020921</td>\n",
       "      <td>0.564854</td>\n",
       "      <td>0.171548</td>\n",
       "      <td>-0.142259</td>\n",
       "    </tr>\n",
       "    <tr>\n",
       "      <th>2016-01-06</th>\n",
       "      <td>-0.064103</td>\n",
       "      <td>0.666667</td>\n",
       "      <td>0.153846</td>\n",
       "      <td>-0.136752</td>\n",
       "    </tr>\n",
       "    <tr>\n",
       "      <th>2016-01-07</th>\n",
       "      <td>0.100457</td>\n",
       "      <td>0.726027</td>\n",
       "      <td>0.365297</td>\n",
       "      <td>-0.082192</td>\n",
       "    </tr>\n",
       "    <tr>\n",
       "      <th>2016-01-08</th>\n",
       "      <td>0.020747</td>\n",
       "      <td>0.539419</td>\n",
       "      <td>0.224066</td>\n",
       "      <td>-0.149378</td>\n",
       "    </tr>\n",
       "  </tbody>\n",
       "</table>\n",
       "</div>"
      ],
      "text/plain": [
       "            RETURN_1  RETURN_30  RETURN_60  RETURN_200\n",
       "Date                                                  \n",
       "2016-01-04 -0.012397   0.479339   0.165289   -0.148760\n",
       "2016-01-05 -0.020921   0.564854   0.171548   -0.142259\n",
       "2016-01-06 -0.064103   0.666667   0.153846   -0.136752\n",
       "2016-01-07  0.100457   0.726027   0.365297   -0.082192\n",
       "2016-01-08  0.020747   0.539419   0.224066   -0.149378"
      ]
     },
     "execution_count": 34,
     "metadata": {},
     "output_type": "execute_result"
    }
   ],
   "source": [
    "y_test.head()"
   ]
  },
  {
   "cell_type": "code",
   "execution_count": 35,
   "metadata": {
    "collapsed": true
   },
   "outputs": [],
   "source": [
    "X_train, y_train, X_test, y_test = scenarioa.prepare_problemspace(\"GLUU\", trial.valid_ticker_list(), trial.train_from, trial.train_until, trial.test_from, \"numpy\")"
   ]
  },
  {
   "cell_type": "code",
   "execution_count": 36,
   "metadata": {},
   "outputs": [
    {
     "data": {
      "text/plain": [
       "(1510, 29, 3)"
      ]
     },
     "execution_count": 36,
     "metadata": {},
     "output_type": "execute_result"
    }
   ],
   "source": [
    "X_train.shape"
   ]
  },
  {
   "cell_type": "code",
   "execution_count": 37,
   "metadata": {},
   "outputs": [
    {
     "data": {
      "text/plain": [
       "(1510, 4)"
      ]
     },
     "execution_count": 37,
     "metadata": {},
     "output_type": "execute_result"
    }
   ],
   "source": [
    "y_train.shape"
   ]
  },
  {
   "cell_type": "code",
   "execution_count": 38,
   "metadata": {},
   "outputs": [
    {
     "data": {
      "text/plain": [
       "(328, 29, 3)"
      ]
     },
     "execution_count": 38,
     "metadata": {},
     "output_type": "execute_result"
    }
   ],
   "source": [
    "X_test.shape"
   ]
  },
  {
   "cell_type": "code",
   "execution_count": 39,
   "metadata": {},
   "outputs": [
    {
     "data": {
      "text/plain": [
       "(328, 4)"
      ]
     },
     "execution_count": 39,
     "metadata": {},
     "output_type": "execute_result"
    }
   ],
   "source": [
    "y_test.shape"
   ]
  },
  {
   "cell_type": "code",
   "execution_count": 41,
   "metadata": {
    "collapsed": true
   },
   "outputs": [],
   "source": [
    "model = scenarioa.create_model(trial.valid_ticker_list().shape[0])"
   ]
  },
  {
   "cell_type": "code",
   "execution_count": 42,
   "metadata": {},
   "outputs": [
    {
     "name": "stdout",
     "output_type": "stream",
     "text": [
      "____________________________________________________________________________________________________\n",
      "Layer (type)                     Output Shape          Param #     Connected to                     \n",
      "====================================================================================================\n",
      "convolution2d_34 (Convolution2D) (None, 64, 27, 1)     640         convolution2d_input_4[0][0]      \n",
      "____________________________________________________________________________________________________\n",
      "zeropadding2d_31 (ZeroPadding2D) (None, 64, 29, 3)     0           convolution2d_34[0][0]           \n",
      "____________________________________________________________________________________________________\n",
      "convolution2d_35 (Convolution2D) (None, 64, 27, 1)     36928       zeropadding2d_31[0][0]           \n",
      "____________________________________________________________________________________________________\n",
      "zeropadding2d_32 (ZeroPadding2D) (None, 64, 29, 3)     0           convolution2d_35[0][0]           \n",
      "____________________________________________________________________________________________________\n",
      "convolution2d_36 (Convolution2D) (None, 128, 27, 1)    73856       zeropadding2d_32[0][0]           \n",
      "____________________________________________________________________________________________________\n",
      "zeropadding2d_33 (ZeroPadding2D) (None, 128, 29, 3)    0           convolution2d_36[0][0]           \n",
      "____________________________________________________________________________________________________\n",
      "convolution2d_37 (Convolution2D) (None, 128, 27, 1)    147584      zeropadding2d_33[0][0]           \n",
      "____________________________________________________________________________________________________\n",
      "zeropadding2d_34 (ZeroPadding2D) (None, 128, 29, 3)    0           convolution2d_37[0][0]           \n",
      "____________________________________________________________________________________________________\n",
      "convolution2d_38 (Convolution2D) (None, 256, 27, 1)    295168      zeropadding2d_34[0][0]           \n",
      "____________________________________________________________________________________________________\n",
      "zeropadding2d_35 (ZeroPadding2D) (None, 256, 29, 3)    0           convolution2d_38[0][0]           \n",
      "____________________________________________________________________________________________________\n",
      "convolution2d_39 (Convolution2D) (None, 256, 27, 1)    590080      zeropadding2d_35[0][0]           \n",
      "____________________________________________________________________________________________________\n",
      "zeropadding2d_36 (ZeroPadding2D) (None, 256, 29, 3)    0           convolution2d_39[0][0]           \n",
      "____________________________________________________________________________________________________\n",
      "convolution2d_40 (Convolution2D) (None, 256, 27, 1)    590080      zeropadding2d_36[0][0]           \n",
      "____________________________________________________________________________________________________\n",
      "flatten_4 (Flatten)              (None, 6912)          0           convolution2d_40[0][0]           \n",
      "____________________________________________________________________________________________________\n",
      "batchnormalization_10 (BatchNorm (None, 6912)          27648       flatten_4[0][0]                  \n",
      "____________________________________________________________________________________________________\n",
      "dense_13 (Dense)                 (None, 4096)          28315648    batchnormalization_10[0][0]      \n",
      "____________________________________________________________________________________________________\n",
      "batchnormalization_11 (BatchNorm (None, 4096)          16384       dense_13[0][0]                   \n",
      "____________________________________________________________________________________________________\n",
      "dense_14 (Dense)                 (None, 4096)          16781312    batchnormalization_11[0][0]      \n",
      "____________________________________________________________________________________________________\n",
      "batchnormalization_12 (BatchNorm (None, 4096)          16384       dense_14[0][0]                   \n",
      "____________________________________________________________________________________________________\n",
      "dense_15 (Dense)                 (None, 4096)          16781312    batchnormalization_12[0][0]      \n",
      "____________________________________________________________________________________________________\n",
      "dense_16 (Dense)                 (None, 4)             16388       dense_15[0][0]                   \n",
      "====================================================================================================\n",
      "Total params: 63,689,412\n",
      "Trainable params: 63,659,204\n",
      "Non-trainable params: 30,208\n",
      "____________________________________________________________________________________________________\n"
     ]
    }
   ],
   "source": [
    "model.summary()"
   ]
  },
  {
   "cell_type": "code",
   "execution_count": null,
   "metadata": {
    "collapsed": true,
    "scrolled": false
   },
   "outputs": [],
   "source": [
    "model = scenarioa.create_model(trial.valid_ticker_list().shape[0])\n",
    "X_train, y_train, X_test, y_test = scenarioa.prepare_problemspace(\"GLUU\", trial.valid_ticker_list(), trial.train_from, trial.train_until, trial.test_from, True, \"numpy\")\n",
    "scenarioa.fit(model, X_train, y_train)"
   ]
  },
  {
   "cell_type": "code",
   "execution_count": 174,
   "metadata": {
    "collapsed": true
   },
   "outputs": [],
   "source": []
  },
  {
   "cell_type": "code",
   "execution_count": null,
   "metadata": {
    "collapsed": true
   },
   "outputs": [],
   "source": []
  },
  {
   "cell_type": "code",
   "execution_count": null,
   "metadata": {
    "collapsed": true
   },
   "outputs": [],
   "source": []
  },
  {
   "cell_type": "code",
   "execution_count": null,
   "metadata": {
    "collapsed": true
   },
   "outputs": [],
   "source": []
  },
  {
   "cell_type": "code",
   "execution_count": null,
   "metadata": {
    "collapsed": true
   },
   "outputs": [],
   "source": []
  },
  {
   "cell_type": "code",
   "execution_count": null,
   "metadata": {
    "collapsed": true
   },
   "outputs": [],
   "source": []
  }
 ],
 "metadata": {
  "anaconda-cloud": {},
  "kernelspec": {
   "display_name": "Python 3",
   "language": "python",
   "name": "python3"
  },
  "language_info": {
   "codemirror_mode": {
    "name": "ipython",
    "version": 3
   },
   "file_extension": ".py",
   "mimetype": "text/x-python",
   "name": "python",
   "nbconvert_exporter": "python",
   "pygments_lexer": "ipython3",
   "version": "3.5.2"
  }
 },
 "nbformat": 4,
 "nbformat_minor": 2
}
