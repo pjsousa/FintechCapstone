{
 "cells": [
  {
   "cell_type": "code",
   "execution_count": 2,
   "metadata": {
    "collapsed": false,
    "scrolled": false
   },
   "outputs": [
    {
     "name": "stdout",
     "output_type": "stream",
     "text": [
      "The autoreload extension is already loaded. To reload it, use:\n",
      "  %reload_ext autoreload\n"
     ]
    }
   ],
   "source": [
    "%load_ext autoreload\n",
    "%autoreload 2"
   ]
  },
  {
   "cell_type": "code",
   "execution_count": 3,
   "metadata": {
    "collapsed": false
   },
   "outputs": [
    {
     "name": "stderr",
     "output_type": "stream",
     "text": [
      "Using TensorFlow backend.\n"
     ]
    }
   ],
   "source": [
    "from __future__ import print_function\n",
    "\n",
    "import datetime\n",
    "import pandas as pd\n",
    "import numpy as np\n",
    "from dateutil import parser as dtparser\n",
    "\n",
    "from utils.datafetch import *\n",
    "from utils.vectorized_funs import *\n",
    "from utils.datapipe import *\n",
    "from utils.kerasutil import *\n",
    "from utils import scenarioa\n",
    "from utils import scenariob\n",
    "from FintechCapstone import FinCapstone\n",
    "\n",
    "import matplotlib as mpl\n",
    "import matplotlib.pyplot as plt\n",
    "import seaborn as sns\n",
    "from sklearn.decomposition import PCA"
   ]
  },
  {
   "cell_type": "code",
   "execution_count": 4,
   "metadata": {
    "collapsed": false,
    "scrolled": false
   },
   "outputs": [
    {
     "name": "stdout",
     "output_type": "stream",
     "text": [
      "nasdaq has 3188 tickers.\n",
      "\n",
      "\n",
      "Final dataset has 3188 records\n",
      "(OK) Final dataset has 3188 distinct tickers\n"
     ]
    }
   ],
   "source": [
    "%matplotlib inline\n",
    "\n",
    "plt.style.use('seaborn-whitegrid')\n",
    "date_from = '2009-01-01'\n",
    "date_to = '2017-03-01'\n",
    "timespan = {\n",
    "    \"short_term\": [1, 5]\n",
    "    ,\"medium_term\": [40]\n",
    "    ,\"long_term\": [90]\n",
    "}\n",
    "\n",
    "#trial = FinCapstone(ticker_list=[\"GLW\",\"HIMX\",\"GLUU\"], scenario=\"scenarioa\", ticker_list_samplesize=4, timespan=timespan, date_from=date_from, reset_status=True)\n",
    "#trial = FinCapstone(scenario=\"scenarioa\", ticker_list=[\"ZHNE\",\"BSFT\",\"AERO\",\"MATR\",\"ITMSF\",\"FIT\",\"TIPT\",\"OLBK\",\"QADA\",\"ATTU\",\"LGF\",\"STX\",\"TPCS\",\"GSAT\",\"ZNGA\",\"GLW\",\"HIMX\",\"YHOO\", \"NWSA\",\"JAKK\",\"GLUU\",\"AMZN\", \"AAPL\", \"EBAY\", \"GOOG\", \"DIS\", \"NFLX\", \"EA\", \"TWTR\", \"FB\", \"TTWO\", \"PXLW\", \"UBI\"], ticker_list_samplesize=4, timespan=timespan, date_from=date_from, reset_status=True)\n",
    "trial = FinCapstone(scenario=\"scenariob\",ticker_list_samplesize=4000, timespan=timespan, date_from=date_from, reset_status=False)\n",
    "\n",
    "#trial.run_initial_dataload()\n",
    "#trial.feature_engineering()"
   ]
  },
  {
   "cell_type": "code",
   "execution_count": 5,
   "metadata": {
    "collapsed": true,
    "scrolled": true
   },
   "outputs": [],
   "source": [
    "#trial.run_initial_dataload()"
   ]
  },
  {
   "cell_type": "code",
   "execution_count": 6,
   "metadata": {
    "collapsed": true,
    "scrolled": true
   },
   "outputs": [],
   "source": [
    "#trial.feature_engineering()"
   ]
  },
  {
   "cell_type": "code",
   "execution_count": 7,
   "metadata": {
    "collapsed": false,
    "scrolled": true
   },
   "outputs": [
    {
     "name": "stderr",
     "output_type": "stream",
     "text": [
      "/home/pedro/jupyternb/FintechCapstone/FintechCapstone.py:125: UserWarning: Boolean Series key will be reindexed to match DataFrame index.\n",
      "  ticker_list = ticker_list[~(self.featureengineer_status_df[\"status\"] == \"NOK\")]\n"
     ]
    }
   ],
   "source": [
    "X_train, y_train, X_test, y_test = scenariob.prepare_problemspace(trial.valid_ticker_list(), trial.train_from, trial.train_until, trial.test_from, normalize=True, return_type=\"numpy\")"
   ]
  },
  {
   "cell_type": "code",
   "execution_count": 8,
   "metadata": {
    "collapsed": false
   },
   "outputs": [
    {
     "data": {
      "text/plain": [
       "(1564, 29, 3049)"
      ]
     },
     "execution_count": 8,
     "metadata": {},
     "output_type": "execute_result"
    }
   ],
   "source": [
    "X_train.shape"
   ]
  },
  {
   "cell_type": "code",
   "execution_count": 9,
   "metadata": {
    "collapsed": false
   },
   "outputs": [
    {
     "data": {
      "text/plain": [
       "(1564, 12196)"
      ]
     },
     "execution_count": 9,
     "metadata": {},
     "output_type": "execute_result"
    }
   ],
   "source": [
    "y_train.shape"
   ]
  },
  {
   "cell_type": "code",
   "execution_count": 10,
   "metadata": {
    "collapsed": false
   },
   "outputs": [
    {
     "data": {
      "text/plain": [
       "(346, 29, 3049)"
      ]
     },
     "execution_count": 10,
     "metadata": {},
     "output_type": "execute_result"
    }
   ],
   "source": [
    "X_test.shape"
   ]
  },
  {
   "cell_type": "code",
   "execution_count": 11,
   "metadata": {
    "collapsed": false
   },
   "outputs": [
    {
     "data": {
      "text/plain": [
       "(346, 12196)"
      ]
     },
     "execution_count": 11,
     "metadata": {},
     "output_type": "execute_result"
    }
   ],
   "source": [
    "y_test.shape"
   ]
  },
  {
   "cell_type": "code",
   "execution_count": 12,
   "metadata": {
    "collapsed": false
   },
   "outputs": [
    {
     "data": {
      "text/plain": [
       "0"
      ]
     },
     "execution_count": 12,
     "metadata": {},
     "output_type": "execute_result"
    }
   ],
   "source": [
    "np.isnan(X_train).sum()"
   ]
  },
  {
   "cell_type": "code",
   "execution_count": 13,
   "metadata": {
    "collapsed": false
   },
   "outputs": [
    {
     "data": {
      "text/plain": [
       "0"
      ]
     },
     "execution_count": 13,
     "metadata": {},
     "output_type": "execute_result"
    }
   ],
   "source": [
    "np.isnan(y_train).sum()"
   ]
  },
  {
   "cell_type": "code",
   "execution_count": 14,
   "metadata": {
    "collapsed": true
   },
   "outputs": [],
   "source": [
    "X_final, pca = scenariob.dim_reduction(X_train, 900)"
   ]
  },
  {
   "cell_type": "code",
   "execution_count": 15,
   "metadata": {
    "collapsed": false
   },
   "outputs": [
    {
     "data": {
      "image/png": "[encoded data removed]",
      "text/plain": [
       "<matplotlib.figure.Figure at 0x7f005412b828>"
      ]
     },
     "metadata": {},
     "output_type": "display_data"
    }
   ],
   "source": [
    "plt.plot(np.cumsum(pca.explained_variance_ratio_))\n",
    "plt.show()"
   ]
  },
  {
   "cell_type": "code",
   "execution_count": 16,
   "metadata": {
    "collapsed": false
   },
   "outputs": [
    {
     "data": {
      "text/plain": [
       "1.0000000000000033"
      ]
     },
     "execution_count": 16,
     "metadata": {},
     "output_type": "execute_result"
    }
   ],
   "source": [
    "np.cumsum(pca.explained_variance_ratio_)[-1]"
   ]
  },
  {
   "cell_type": "code",
   "execution_count": 20,
   "metadata": {
    "collapsed": false
   },
   "outputs": [
    {
     "name": "stderr",
     "output_type": "stream",
     "text": [
      "/home/pedro/jupyternb/FintechCapstone/FintechCapstone.py:125: UserWarning: Boolean Series key will be reindexed to match DataFrame index.\n",
      "  ticker_list = ticker_list[~(self.featureengineer_status_df[\"status\"] == \"NOK\")]\n"
     ]
    }
   ],
   "source": [
    "model = scenariob.create_model(len(trial.valid_ticker_list()), X_final.shape[1])"
   ]
  },
  {
   "cell_type": "code",
   "execution_count": 21,
   "metadata": {
    "collapsed": false
   },
   "outputs": [
    {
     "name": "stdout",
     "output_type": "stream",
     "text": [
      "_________________________________________________________________\n",
      "Layer (type)                 Output Shape              Param #   \n",
      "=================================================================\n",
      "conv2d_14 (Conv2D)           (None, 28, 28, 64)        640       \n",
      "_________________________________________________________________\n",
      "zero_padding2d_13 (ZeroPaddi (None, 30, 30, 64)        0         \n",
      "_________________________________________________________________\n",
      "conv2d_15 (Conv2D)           (None, 28, 28, 64)        36928     \n",
      "_________________________________________________________________\n",
      "max_pooling2d_4 (MaxPooling2 (None, 14, 14, 64)        0         \n",
      "_________________________________________________________________\n",
      "zero_padding2d_14 (ZeroPaddi (None, 16, 16, 64)        0         \n",
      "_________________________________________________________________\n",
      "conv2d_16 (Conv2D)           (None, 14, 14, 128)       73856     \n",
      "_________________________________________________________________\n",
      "zero_padding2d_15 (ZeroPaddi (None, 16, 16, 128)       0         \n",
      "_________________________________________________________________\n",
      "conv2d_17 (Conv2D)           (None, 14, 14, 128)       147584    \n",
      "_________________________________________________________________\n",
      "max_pooling2d_5 (MaxPooling2 (None, 7, 7, 128)         0         \n",
      "_________________________________________________________________\n",
      "zero_padding2d_16 (ZeroPaddi (None, 9, 9, 128)         0         \n",
      "_________________________________________________________________\n",
      "conv2d_18 (Conv2D)           (None, 7, 7, 256)         295168    \n",
      "_________________________________________________________________\n",
      "zero_padding2d_17 (ZeroPaddi (None, 9, 9, 256)         0         \n",
      "_________________________________________________________________\n",
      "conv2d_19 (Conv2D)           (None, 7, 7, 256)         590080    \n",
      "_________________________________________________________________\n",
      "zero_padding2d_18 (ZeroPaddi (None, 9, 9, 256)         0         \n",
      "_________________________________________________________________\n",
      "conv2d_20 (Conv2D)           (None, 7, 7, 256)         590080    \n",
      "_________________________________________________________________\n",
      "zero_padding2d_19 (ZeroPaddi (None, 9, 9, 256)         0         \n",
      "_________________________________________________________________\n",
      "conv2d_21 (Conv2D)           (None, 7, 7, 512)         1180160   \n",
      "_________________________________________________________________\n",
      "zero_padding2d_20 (ZeroPaddi (None, 9, 9, 512)         0         \n",
      "_________________________________________________________________\n",
      "conv2d_22 (Conv2D)           (None, 7, 7, 512)         2359808   \n",
      "_________________________________________________________________\n",
      "zero_padding2d_21 (ZeroPaddi (None, 9, 9, 512)         0         \n",
      "_________________________________________________________________\n",
      "conv2d_23 (Conv2D)           (None, 7, 7, 512)         2359808   \n",
      "_________________________________________________________________\n",
      "zero_padding2d_22 (ZeroPaddi (None, 9, 9, 512)         0         \n",
      "_________________________________________________________________\n",
      "conv2d_24 (Conv2D)           (None, 7, 7, 512)         2359808   \n",
      "_________________________________________________________________\n",
      "zero_padding2d_23 (ZeroPaddi (None, 9, 9, 512)         0         \n",
      "_________________________________________________________________\n",
      "conv2d_25 (Conv2D)           (None, 7, 7, 512)         2359808   \n",
      "_________________________________________________________________\n",
      "zero_padding2d_24 (ZeroPaddi (None, 9, 9, 512)         0         \n",
      "_________________________________________________________________\n",
      "conv2d_26 (Conv2D)           (None, 7, 7, 512)         2359808   \n",
      "_________________________________________________________________\n",
      "max_pooling2d_6 (MaxPooling2 (None, 3, 3, 512)         0         \n",
      "_________________________________________________________________\n",
      "flatten_2 (Flatten)          (None, 4608)              0         \n",
      "_________________________________________________________________\n",
      "batch_normalization_1 (Batch (None, 4608)              18432     \n",
      "_________________________________________________________________\n",
      "dense_5 (Dense)              (None, 4096)              18878464  \n",
      "_________________________________________________________________\n",
      "dropout_4 (Dropout)          (None, 4096)              0         \n",
      "_________________________________________________________________\n",
      "batch_normalization_2 (Batch (None, 4096)              16384     \n",
      "_________________________________________________________________\n",
      "dense_6 (Dense)              (None, 4096)              16781312  \n",
      "_________________________________________________________________\n",
      "dropout_5 (Dropout)          (None, 4096)              0         \n",
      "_________________________________________________________________\n",
      "batch_normalization_3 (Batch (None, 4096)              16384     \n",
      "_________________________________________________________________\n",
      "dense_7 (Dense)              (None, 4096)              16781312  \n",
      "_________________________________________________________________\n",
      "dropout_6 (Dropout)          (None, 4096)              0         \n",
      "_________________________________________________________________\n",
      "dense_8 (Dense)              (None, 12196)             49967012  \n",
      "=================================================================\n",
      "Total params: 117,172,836.0\n",
      "Trainable params: 117,147,236.0\n",
      "Non-trainable params: 25,600.0\n",
      "_________________________________________________________________\n"
     ]
    }
   ],
   "source": [
    "model.summary()"
   ]
  },
  {
   "cell_type": "code",
   "execution_count": 28,
   "metadata": {
    "collapsed": false,
    "scrolled": false
   },
   "outputs": [
    {
     "name": "stdout",
     "output_type": "stream",
     "text": [
      "Epoch 1/100\n",
      "1564/1564 [==============================] - 4s - loss: 1.9040     \n",
      "Epoch 2/100\n",
      "1564/1564 [==============================] - 4s - loss: 1.9039     \n",
      "Epoch 3/100\n",
      "1564/1564 [==============================] - 4s - loss: 1.9040     \n",
      "Epoch 4/100\n",
      "1564/1564 [==============================] - 4s - loss: 1.9039     \n",
      "Epoch 5/100\n",
      "1564/1564 [==============================] - 4s - loss: 1.9039     \n",
      "Epoch 6/100\n",
      "1564/1564 [==============================] - 4s - loss: 1.9038     \n",
      "Epoch 7/100\n",
      "1564/1564 [==============================] - 4s - loss: 1.9037     \n",
      "Epoch 8/100\n",
      "1564/1564 [==============================] - 4s - loss: 1.9037     \n",
      "Epoch 9/100\n",
      "1564/1564 [==============================] - 4s - loss: 1.9037     \n",
      "Epoch 10/100\n",
      "1564/1564 [==============================] - 4s - loss: 1.9036     \n",
      "Epoch 11/100\n",
      "1564/1564 [==============================] - 4s - loss: 1.9035     \n",
      "Epoch 12/100\n",
      "1564/1564 [==============================] - 4s - loss: 1.9035     \n",
      "Epoch 13/100\n",
      "1564/1564 [==============================] - 4s - loss: 1.9035     \n",
      "Epoch 14/100\n",
      "1564/1564 [==============================] - 4s - loss: 1.9034     \n",
      "Epoch 15/100\n",
      "1564/1564 [==============================] - 4s - loss: 1.9036     \n",
      "Epoch 16/100\n",
      "1564/1564 [==============================] - 4s - loss: 1.9033     \n",
      "Epoch 17/100\n",
      "1564/1564 [==============================] - 4s - loss: 1.9034     \n",
      "Epoch 18/100\n",
      "1564/1564 [==============================] - 4s - loss: 1.9033     \n",
      "Epoch 19/100\n",
      "1564/1564 [==============================] - 4s - loss: 1.9032     \n",
      "Epoch 20/100\n",
      "1564/1564 [==============================] - 4s - loss: 1.9032     \n",
      "Epoch 21/100\n",
      "1564/1564 [==============================] - 4s - loss: 1.9031     \n",
      "Epoch 22/100\n",
      "1564/1564 [==============================] - 4s - loss: 1.9038     \n",
      "Epoch 23/100\n",
      "1564/1564 [==============================] - 4s - loss: 1.9031     \n",
      "Epoch 24/100\n",
      "1564/1564 [==============================] - 4s - loss: 1.9031     \n",
      "Epoch 25/100\n",
      "1564/1564 [==============================] - 4s - loss: 1.9031     \n",
      "Epoch 26/100\n",
      "1564/1564 [==============================] - 4s - loss: 1.9030     \n",
      "Epoch 27/100\n",
      "1564/1564 [==============================] - 4s - loss: 1.9029     \n",
      "Epoch 28/100\n",
      "1564/1564 [==============================] - 4s - loss: 1.9031     \n",
      "Epoch 29/100\n",
      "1564/1564 [==============================] - 4s - loss: 1.9030     \n",
      "Epoch 30/100\n",
      "1564/1564 [==============================] - 4s - loss: 1.9028     \n",
      "Epoch 31/100\n",
      "1564/1564 [==============================] - 4s - loss: 1.9029     \n",
      "Epoch 32/100\n",
      "1564/1564 [==============================] - 4s - loss: 1.9028     \n",
      "Epoch 33/100\n",
      "1564/1564 [==============================] - 4s - loss: 1.9028     \n",
      "Epoch 34/100\n",
      "1564/1564 [==============================] - 4s - loss: 1.9027     \n",
      "Epoch 35/100\n",
      "1564/1564 [==============================] - 4s - loss: 1.9027     \n",
      "Epoch 36/100\n",
      "1564/1564 [==============================] - 4s - loss: 1.9026     \n",
      "Epoch 37/100\n",
      "1564/1564 [==============================] - 4s - loss: 1.9026     \n",
      "Epoch 38/100\n",
      "1564/1564 [==============================] - 4s - loss: 1.9026     \n",
      "Epoch 39/100\n",
      "1564/1564 [==============================] - 4s - loss: 1.9026     \n",
      "Epoch 40/100\n",
      "1564/1564 [==============================] - 4s - loss: 1.9027     \n",
      "Epoch 41/100\n",
      "1564/1564 [==============================] - 4s - loss: 1.9025     \n",
      "Epoch 42/100\n",
      "1564/1564 [==============================] - 4s - loss: 1.9024     \n",
      "Epoch 43/100\n",
      "1564/1564 [==============================] - 4s - loss: 1.9024     \n",
      "Epoch 44/100\n",
      "1564/1564 [==============================] - 4s - loss: 1.9024     \n",
      "Epoch 45/100\n",
      "1564/1564 [==============================] - 4s - loss: 1.9023     \n",
      "Epoch 46/100\n",
      "1564/1564 [==============================] - 4s - loss: 1.9023     \n",
      "Epoch 47/100\n",
      "1564/1564 [==============================] - 4s - loss: 1.9023     \n",
      "Epoch 48/100\n",
      "1564/1564 [==============================] - 4s - loss: 1.9023     \n",
      "Epoch 49/100\n",
      "1564/1564 [==============================] - 4s - loss: 1.9022     \n",
      "Epoch 50/100\n",
      "1564/1564 [==============================] - 4s - loss: 1.9022     \n",
      "Epoch 51/100\n",
      "1564/1564 [==============================] - 4s - loss: 1.9022     \n",
      "Epoch 52/100\n",
      "1564/1564 [==============================] - 4s - loss: 1.9021     \n",
      "Epoch 53/100\n",
      "1564/1564 [==============================] - 4s - loss: 1.9021     \n",
      "Epoch 54/100\n",
      "1564/1564 [==============================] - 4s - loss: 1.9021     \n",
      "Epoch 55/100\n",
      "1564/1564 [==============================] - 4s - loss: 1.9022     \n",
      "Epoch 56/100\n",
      "1564/1564 [==============================] - 4s - loss: 1.9024     \n",
      "Epoch 57/100\n",
      "1564/1564 [==============================] - 4s - loss: 1.9020     \n",
      "Epoch 58/100\n",
      "1564/1564 [==============================] - 4s - loss: 1.9021     \n",
      "Epoch 59/100\n",
      "1564/1564 [==============================] - 4s - loss: 1.9020     \n",
      "Epoch 60/100\n",
      "1564/1564 [==============================] - 4s - loss: 1.9029     \n",
      "Epoch 61/100\n",
      "1564/1564 [==============================] - 4s - loss: 1.9023     \n",
      "Epoch 62/100\n",
      "1564/1564 [==============================] - 4s - loss: 1.9019     \n",
      "Epoch 63/100\n",
      "1564/1564 [==============================] - 4s - loss: 1.9018     \n",
      "Epoch 64/100\n",
      "1564/1564 [==============================] - 4s - loss: 1.9018     \n",
      "Epoch 65/100\n",
      "1564/1564 [==============================] - 4s - loss: 1.9017     \n",
      "Epoch 66/100\n",
      "1564/1564 [==============================] - 4s - loss: 1.9017     \n",
      "Epoch 67/100\n",
      "1564/1564 [==============================] - 4s - loss: 1.9017     \n",
      "Epoch 68/100\n",
      "1564/1564 [==============================] - 4s - loss: 1.9017     \n",
      "Epoch 69/100\n",
      "1564/1564 [==============================] - 4s - loss: 1.9016     \n",
      "Epoch 70/100\n",
      "1564/1564 [==============================] - 4s - loss: 1.9017     \n",
      "Epoch 71/100\n",
      "1564/1564 [==============================] - 4s - loss: 1.9016     \n",
      "Epoch 72/100\n",
      "1564/1564 [==============================] - 4s - loss: 1.9017     \n",
      "Epoch 73/100\n",
      "1564/1564 [==============================] - 4s - loss: 1.9016     \n",
      "Epoch 74/100\n",
      "1564/1564 [==============================] - 4s - loss: 1.9016     \n",
      "Epoch 75/100\n",
      "1564/1564 [==============================] - 4s - loss: 1.9015     \n",
      "Epoch 76/100\n",
      "1564/1564 [==============================] - 4s - loss: 1.9015     \n",
      "Epoch 77/100\n",
      "1564/1564 [==============================] - 4s - loss: 1.9015     \n",
      "Epoch 78/100\n",
      "1564/1564 [==============================] - 4s - loss: 1.9015     \n",
      "Epoch 79/100\n",
      "1564/1564 [==============================] - 4s - loss: 1.9014     \n",
      "Epoch 80/100\n",
      "1564/1564 [==============================] - 4s - loss: 1.9014     \n",
      "Epoch 81/100\n",
      "1564/1564 [==============================] - 4s - loss: 1.9014     \n",
      "Epoch 82/100\n",
      "1564/1564 [==============================] - 4s - loss: 1.9014     \n",
      "Epoch 83/100\n",
      "1564/1564 [==============================] - 4s - loss: 1.9014     \n",
      "Epoch 84/100\n",
      "1564/1564 [==============================] - 4s - loss: 1.9014     \n",
      "Epoch 85/100\n",
      "1564/1564 [==============================] - 4s - loss: 1.9013     \n",
      "Epoch 86/100\n",
      "1564/1564 [==============================] - 4s - loss: 1.9013     \n",
      "Epoch 87/100\n",
      "1564/1564 [==============================] - 4s - loss: 1.9012     \n",
      "Epoch 88/100\n",
      "1564/1564 [==============================] - 4s - loss: 1.9012     \n",
      "Epoch 89/100\n",
      "1564/1564 [==============================] - 4s - loss: 1.9012     \n",
      "Epoch 90/100\n",
      "1564/1564 [==============================] - 4s - loss: 1.9012     \n",
      "Epoch 91/100\n",
      "1564/1564 [==============================] - 4s - loss: 1.9012     \n",
      "Epoch 92/100\n",
      "1564/1564 [==============================] - 4s - loss: 1.9011     \n",
      "Epoch 93/100\n",
      "1564/1564 [==============================] - 4s - loss: 1.9011     \n",
      "Epoch 94/100\n",
      "1564/1564 [==============================] - 4s - loss: 1.9011     \n",
      "Epoch 95/100\n",
      "1564/1564 [==============================] - 4s - loss: 1.9011     \n",
      "Epoch 96/100\n",
      "1564/1564 [==============================] - 4s - loss: 1.9011     \n",
      "Epoch 97/100\n",
      "1564/1564 [==============================] - 4s - loss: 1.9010     \n",
      "Epoch 98/100\n",
      "1564/1564 [==============================] - 4s - loss: 1.9010     \n",
      "Epoch 99/100\n",
      "1564/1564 [==============================] - 4s - loss: 1.9010     \n",
      "Epoch 100/100\n",
      "1564/1564 [==============================] - 4s - loss: 1.9010     \n"
     ]
    },
    {
     "data": {
      "text/plain": [
       "<keras.callbacks.History at 0x7effb485cb00>"
      ]
     },
     "execution_count": 28,
     "metadata": {},
     "output_type": "execute_result"
    }
   ],
   "source": [
    "model.fit(X_final, y_train, batch_size=64, epochs=100)"
   ]
  },
  {
   "cell_type": "code",
   "execution_count": 25,
   "metadata": {
    "collapsed": false
   },
   "outputs": [],
   "source": [
    "\n",
    "Xt_final, pca = scenariob.dim_reduction(X_test, 900, pca)"
   ]
  },
  {
   "cell_type": "code",
   "execution_count": 26,
   "metadata": {
    "collapsed": false
   },
   "outputs": [],
   "source": [
    "y_pred = model.predict(Xt_final)"
   ]
  },
  {
   "cell_type": "code",
   "execution_count": 27,
   "metadata": {
    "collapsed": false
   },
   "outputs": [
    {
     "name": "stdout",
     "output_type": "stream",
     "text": [
      "320/346 [==========================>...] - ETA: 0s"
     ]
    },
    {
     "data": {
      "text/plain": [
       "2.1560105118265298"
      ]
     },
     "execution_count": 27,
     "metadata": {},
     "output_type": "execute_result"
    }
   ],
   "source": [
    "model.evaluate(Xt_final, y_test)"
   ]
  },
  {
   "cell_type": "code",
   "execution_count": 66,
   "metadata": {
    "collapsed": false
   },
   "outputs": [
    {
     "data": {
      "text/plain": [
       "<matplotlib.image.AxesImage at 0x7f736d2d6b38>"
      ]
     },
     "execution_count": 66,
     "metadata": {},
     "output_type": "execute_result"
    },
    {
     "data": {
      "image/png": "[encoded data removed]",
      "text/plain": [
       "<matplotlib.figure.Figure at 0x7f736d500160>"
      ]
     },
     "metadata": {},
     "output_type": "display_data"
    }
   ],
   "source": [
    "plt.imshow(y_pred, aspect=\"auto\", cmap=\"magma\")"
   ]
  },
  {
   "cell_type": "code",
   "execution_count": null,
   "metadata": {
    "collapsed": false
   },
   "outputs": [],
   "source": []
  },
  {
   "cell_type": "code",
   "execution_count": null,
   "metadata": {
    "collapsed": true
   },
   "outputs": [],
   "source": []
  },
  {
   "cell_type": "code",
   "execution_count": null,
   "metadata": {
    "collapsed": true
   },
   "outputs": [],
   "source": []
  }
 ],
 "metadata": {
  "anaconda-cloud": {},
  "kernelspec": {
   "display_name": "Python [default]",
   "language": "python",
   "name": "python3"
  },
  "language_info": {
   "codemirror_mode": {
    "name": "ipython",
    "version": 3
   },
   "file_extension": ".py",
   "mimetype": "text/x-python",
   "name": "python",
   "nbconvert_exporter": "python",
   "pygments_lexer": "ipython3",
   "version": "3.5.2"
  }
 },
 "nbformat": 4,
 "nbformat_minor": 2
}
