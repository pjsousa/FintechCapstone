{
 "cells": [
  {
   "cell_type": "code",
   "execution_count": 1,
   "metadata": {
    "scrolled": false
   },
   "outputs": [],
   "source": [
    "%load_ext autoreload\n",
    "%autoreload 2"
   ]
  },
  {
   "cell_type": "code",
   "execution_count": 2,
   "metadata": {},
   "outputs": [
    {
     "name": "stderr",
     "output_type": "stream",
     "text": [
      "Using TensorFlow backend.\n"
     ]
    }
   ],
   "source": [
    "from __future__ import print_function\n",
    "\n",
    "import datetime\n",
    "import pandas as pd\n",
    "import numpy as np\n",
    "from dateutil import parser as dtparser\n",
    "\n",
    "from utils.datafetch import *\n",
    "from utils.vectorized_funs import *\n",
    "from utils.datapipe import *\n",
    "from utils.kerasutil import *\n",
    "from utils import scenarioa\n",
    "from utils import scenariob\n",
    "from FintechCapstone import FinCapstone\n",
    "\n",
    "import matplotlib as mpl\n",
    "import matplotlib.pyplot as plt\n",
    "import seaborn as sns\n",
    "from sklearn.decomposition import PCA"
   ]
  },
  {
   "cell_type": "code",
   "execution_count": 45,
   "metadata": {
    "collapsed": true,
    "scrolled": false
   },
   "outputs": [],
   "source": [
    "%matplotlib inline\n",
    "\n",
    "plt.style.use('seaborn-whitegrid')\n",
    "date_from = '2009-01-01'\n",
    "date_to = '2017-03-01'\n",
    "timespan = {\n",
    "    \"short_term\": [1, 5]\n",
    "    ,\"medium_term\": [40]\n",
    "    ,\"long_term\": [90]\n",
    "}\n",
    "\n",
    "#trial = FinCapstone(ticker_list=[\"GLW\",\"HIMX\",\"GLUU\"], scenario=\"scenarioa\", ticker_list_samplesize=4, timespan=timespan, date_from=date_from, reset_status=True)\n",
    "trial = FinCapstone(scenario=\"scenarioa\", ticker_list=[\"ZHNE\",\"BSFT\",\"AERO\",\"MATR\",\"ITMSF\",\"FIT\",\"TIPT\",\"OLBK\",\"QADA\",\"ATTU\",\"LGF\",\"STX\",\"TPCS\",\"GSAT\",\"ZNGA\",\"GLW\",\"HIMX\",\"YHOO\", \"NWSA\",\"JAKK\",\"GLUU\",\"AMZN\", \"AAPL\", \"EBAY\", \"GOOG\", \"DIS\", \"NFLX\", \"EA\", \"TWTR\", \"FB\", \"TTWO\", \"PXLW\", \"UBI\"], ticker_list_samplesize=4, timespan=timespan, date_from=date_from, reset_status=True)\n",
    "#trial = FinCapstone(ticker_list_samplesize=200, timespan=timespan, timespan_ab=timespan_ab, date_from=date_from, reset_status=True)\n",
    "\n",
    "#trial.run_initial_dataload()\n",
    "#trial.feature_engineering()"
   ]
  },
  {
   "cell_type": "code",
   "execution_count": 46,
   "metadata": {},
   "outputs": [
    {
     "name": "stdout",
     "output_type": "stream",
     "text": [
      "(1/33) Recv. and Stored ZHNE\n",
      "(2/33) Recv. and Stored BSFT\n",
      "(3/33) Recv. and Stored AERO\n",
      "(4/33) Recv. and Stored MATR\n",
      "(5/33) Recv. and Stored ITMSF\n",
      "(6/33) Recv. and Stored FIT\n",
      "(7/33) Recv. and Stored TIPT\n",
      "(8/33) Recv. and Stored OLBK\n",
      "(9/33) Recv. and Stored QADA\n",
      "(10/33) Recv. and Stored ATTU\n",
      "(11/33) Recv. and Stored LGF\n",
      "(12/33) Recv. and Stored STX\n",
      "(13/33) Recv. and Stored TPCS\n",
      "(14/33) Recv. and Stored GSAT\n",
      "(15/33) Recv. and Stored ZNGA\n",
      "(16/33) Recv. and Stored GLW\n",
      "(17/33) Recv. and Stored HIMX\n",
      "(18/33) Recv. and Stored YHOO\n",
      "(19/33) Recv. and Stored NWSA\n",
      "(20/33) Recv. and Stored JAKK\n",
      "(21/33) Recv. and Stored GLUU\n",
      "(22/33) Recv. and Stored AMZN\n",
      "(23/33) Recv. and Stored AAPL\n",
      "(24/33) Recv. and Stored EBAY\n",
      "(25/33) Recv. and Stored GOOG\n",
      "(26/33) Recv. and Stored DIS\n",
      "(27/33) Recv. and Stored NFLX\n",
      "(28/33) Recv. and Stored EA\n",
      "(29/33) Recv. and Stored TWTR\n",
      "(30/33) Recv. and Stored FB\n",
      "(31/33) Recv. and Stored TTWO\n",
      "(32/33) Recv. and Stored PXLW\n",
      "(33/33) Recv. and Stored UBI\n"
     ]
    }
   ],
   "source": [
    "trial.run_initial_dataload()"
   ]
  },
  {
   "cell_type": "code",
   "execution_count": 47,
   "metadata": {
    "scrolled": false
   },
   "outputs": [
    {
     "name": "stdout",
     "output_type": "stream",
     "text": [
      "\n",
      "\n",
      " - ZHNE - \n",
      "\n",
      "\n",
      "\n",
      " - BSFT - \n",
      "\n",
      "\n",
      "\n",
      " - AERO - \n",
      "\n"
     ]
    },
    {
     "name": "stderr",
     "output_type": "stream",
     "text": [
      "/home/jovyan/work/FintechCapstone/utils/vectorized_funs.py:785: RuntimeWarning: divide by zero encountered in true_divide\n",
      "  pdi = (pdm_ema14 / atr) * 100.0\n",
      "/home/jovyan/work/FintechCapstone/utils/vectorized_funs.py:785: RuntimeWarning: invalid value encountered in true_divide\n",
      "  pdi = (pdm_ema14 / atr) * 100.0\n",
      "/home/jovyan/work/FintechCapstone/utils/vectorized_funs.py:786: RuntimeWarning: invalid value encountered in true_divide\n",
      "  ndi = (ndm_ema14 / atr) * 100.0\n"
     ]
    },
    {
     "name": "stdout",
     "output_type": "stream",
     "text": [
      "\n",
      "\n",
      " - MATR - \n",
      "\n",
      "\n",
      "\n",
      " - ITMSF - \n",
      "\n",
      "\n",
      "\n",
      " - FIT - \n",
      "\n",
      "\n",
      "\n",
      " - TIPT - \n",
      "\n"
     ]
    },
    {
     "name": "stderr",
     "output_type": "stream",
     "text": [
      "/home/jovyan/work/FintechCapstone/utils/vectorized_funs.py:788: RuntimeWarning: divide by zero encountered in true_divide\n",
      "  adx = 100.0 * ExpMovingAverage(np.abs((pdi - ndi)), 14) / (pdi + ndi)\n"
     ]
    },
    {
     "name": "stdout",
     "output_type": "stream",
     "text": [
      "\n",
      "\n",
      " - OLBK - \n",
      "\n",
      "\n",
      "\n",
      " - QADA - \n",
      "\n",
      "\n",
      "\n",
      " - ATTU - \n",
      "\n",
      "\n",
      "\n",
      " - LGF - \n",
      "\n",
      "\n",
      "\n",
      " - STX - \n",
      "\n",
      "\n",
      "\n",
      " - TPCS - \n",
      "\n"
     ]
    },
    {
     "name": "stderr",
     "output_type": "stream",
     "text": [
      "/home/jovyan/work/FintechCapstone/utils/vectorized_funs.py:786: RuntimeWarning: divide by zero encountered in true_divide\n",
      "  ndi = (ndm_ema14 / atr) * 100.0\n"
     ]
    },
    {
     "name": "stdout",
     "output_type": "stream",
     "text": [
      "\n",
      "\n",
      " - GSAT - \n",
      "\n",
      "\n",
      "\n",
      " - ZNGA - \n",
      "\n",
      "\n",
      "\n",
      " - GLW - \n",
      "\n",
      "\n",
      "\n",
      " - HIMX - \n",
      "\n",
      "\n",
      "\n",
      " - YHOO - \n",
      "\n",
      "\n",
      "\n",
      " - NWSA - \n",
      "\n",
      "\n",
      "\n",
      " - JAKK - \n",
      "\n",
      "\n",
      "\n",
      " - GLUU - \n",
      "\n",
      "\n",
      "\n",
      " - AMZN - \n",
      "\n",
      "\n",
      "\n",
      " - AAPL - \n",
      "\n",
      "\n",
      "\n",
      " - EBAY - \n",
      "\n",
      "\n",
      "\n",
      " - GOOG - \n",
      "\n",
      "\n",
      "\n",
      " - DIS - \n",
      "\n",
      "\n",
      "\n",
      " - NFLX - \n",
      "\n",
      "\n",
      "\n",
      " - EA - \n",
      "\n",
      "\n",
      "\n",
      " - TWTR - \n",
      "\n",
      "\n",
      "\n",
      " - FB - \n",
      "\n",
      "\n",
      "\n",
      " - TTWO - \n",
      "\n",
      "\n",
      "\n",
      " - PXLW - \n",
      "\n",
      "\n",
      "\n",
      " - UBI - \n",
      "\n"
     ]
    },
    {
     "name": "stderr",
     "output_type": "stream",
     "text": [
      "/home/jovyan/work/FintechCapstone/utils/vectorized_funs.py:705: RuntimeWarning: divide by zero encountered in double_scalars\n",
      "  rs = up/down\n",
      "/home/jovyan/work/FintechCapstone/utils/vectorized_funs.py:721: RuntimeWarning: divide by zero encountered in double_scalars\n",
      "  rs = up/down\n"
     ]
    }
   ],
   "source": [
    "trial.feature_engineering()"
   ]
  },
  {
   "cell_type": "code",
   "execution_count": 48,
   "metadata": {},
   "outputs": [],
   "source": [
    "#trial.train(train_next=1)"
   ]
  },
  {
   "cell_type": "code",
   "execution_count": 72,
   "metadata": {},
   "outputs": [],
   "source": [
    "X_train_pnl, y_train_pnl, X_test_pnl, y_test_pnl = scenarioa.prepare_problemspace(\"NFLX\", trial.valid_ticker_list(), trial.train_from, trial.train_until, trial.test_from, normalize=True, return_type=\"numpy\")"
   ]
  },
  {
   "cell_type": "code",
   "execution_count": 73,
   "metadata": {},
   "outputs": [
    {
     "data": {
      "text/plain": [
       "(1510, 29, 33)"
      ]
     },
     "execution_count": 73,
     "metadata": {},
     "output_type": "execute_result"
    }
   ],
   "source": [
    "X_train_pnl.shape"
   ]
  },
  {
   "cell_type": "code",
   "execution_count": 74,
   "metadata": {},
   "outputs": [
    {
     "data": {
      "text/plain": [
       "(1510, 4)"
      ]
     },
     "execution_count": 74,
     "metadata": {},
     "output_type": "execute_result"
    }
   ],
   "source": [
    "y_train_pnl.shape"
   ]
  },
  {
   "cell_type": "code",
   "execution_count": 75,
   "metadata": {},
   "outputs": [
    {
     "data": {
      "text/plain": [
       "(332, 29, 33)"
      ]
     },
     "execution_count": 75,
     "metadata": {},
     "output_type": "execute_result"
    }
   ],
   "source": [
    "X_test_pnl.shape"
   ]
  },
  {
   "cell_type": "code",
   "execution_count": 76,
   "metadata": {},
   "outputs": [
    {
     "data": {
      "text/plain": [
       "(332, 4)"
      ]
     },
     "execution_count": 76,
     "metadata": {},
     "output_type": "execute_result"
    }
   ],
   "source": [
    "y_test_pnl.shape"
   ]
  },
  {
   "cell_type": "code",
   "execution_count": 77,
   "metadata": {},
   "outputs": [
    {
     "data": {
      "text/plain": [
       "0"
      ]
     },
     "execution_count": 77,
     "metadata": {},
     "output_type": "execute_result"
    }
   ],
   "source": [
    "np.isnan(X_train_pnl).sum()"
   ]
  },
  {
   "cell_type": "code",
   "execution_count": 78,
   "metadata": {},
   "outputs": [
    {
     "data": {
      "text/plain": [
       "0"
      ]
     },
     "execution_count": 78,
     "metadata": {},
     "output_type": "execute_result"
    }
   ],
   "source": [
    "np.isnan(y_train_pnl).sum()"
   ]
  },
  {
   "cell_type": "code",
   "execution_count": 79,
   "metadata": {},
   "outputs": [
    {
     "data": {
      "text/plain": [
       "array([[[  3.57031160e-02,   1.08240294e-02,   1.72418231e-01, ...,\n",
       "           2.20190581e-02,   2.76847807e-03,   0.00000000e+00],\n",
       "        [  9.87888436e-01,   1.19999998e+00,   1.02110536e+00, ...,\n",
       "           9.90175439e-01,   9.53488372e-01,   0.00000000e+00],\n",
       "        [  9.35540410e-01,   1.24722219e+00,   1.00270605e+00, ...,\n",
       "           9.24385961e-01,   1.01085271e+00,   0.00000000e+00],\n",
       "        ..., \n",
       "        [  4.01371956e-01,   5.99968929e-01,   1.89298229e-01, ...,\n",
       "           6.55370372e-01,   6.40884154e-01,   0.00000000e+00],\n",
       "        [  6.52716260e-01,   7.10126453e-01,   2.69713551e-01, ...,\n",
       "           5.87821166e-01,   4.38495216e-01,   0.00000000e+00],\n",
       "        [  1.52142856e+08,   2.43875135e+03,   1.07003739e+06, ...,\n",
       "           4.77688830e+07,   3.11441860e+06,   0.00000000e+00]],\n",
       "\n",
       "       [[  3.57648427e-02,   1.44320388e-02,   1.73435496e-01, ...,\n",
       "           2.21864545e-02,   3.34792696e-03,   0.00000000e+00],\n",
       "        [  9.88767630e-01,   9.25000007e-01,   1.00825599e+00, ...,\n",
       "           9.86767278e-01,   8.30769231e-01,   0.00000000e+00],\n",
       "        [  9.36082362e-01,   9.33333339e-01,   9.98235445e-01, ...,\n",
       "           9.20545556e-01,   8.38461538e-01,   0.00000000e+00],\n",
       "        ..., \n",
       "        [  4.42962448e-01,   5.99968929e-01,   2.82066891e-01, ...,\n",
       "           7.43757916e-01,   6.77244158e-01,   0.00000000e+00],\n",
       "        [  5.42338728e-01,   7.10126453e-01,   4.12588157e-01, ...,\n",
       "           6.16375386e-01,   4.54380223e-01,   0.00000000e+00],\n",
       "        [  1.57297961e+08,   1.82906357e+03,   1.12948176e+06, ...,\n",
       "           4.80885665e+07,   2.70150000e+06,   0.00000000e+00]],\n",
       "\n",
       "       [[  3.51959552e-02,   1.62360435e-02,   1.70293593e-01, ...,\n",
       "           2.21091946e-02,   3.73422623e-03,   0.00000000e+00],\n",
       "        [  1.00652226e+00,   8.44444457e-01,   1.01603025e+00, ...,\n",
       "           9.93127560e-01,   8.10344828e-01,   0.00000000e+00],\n",
       "        [  9.52958570e-01,   8.37037050e-01,   1.01730561e+00, ...,\n",
       "           9.27237426e-01,   7.57471264e-01,   0.00000000e+00],\n",
       "        ..., \n",
       "        [  4.20213252e-01,   5.99968929e-01,   2.85095104e-01, ...,\n",
       "           7.37668133e-01,   7.58064192e-01,   0.00000000e+00],\n",
       "        [  3.58159288e-01,   7.11398548e-01,   2.68010791e-01, ...,\n",
       "           5.44390595e-01,   4.66219722e-01,   0.00000000e+00],\n",
       "        [  1.54790164e+08,   1.69721239e+03,   1.09603856e+06, ...,\n",
       "           4.73001747e+07,   2.57810345e+06,   0.00000000e+00]],\n",
       "\n",
       "       ..., \n",
       "       [[  1.36381776e-01,   8.29841643e-04,   8.93600299e-01, ...,\n",
       "           4.38320912e-02,   1.21040436e-03,   3.39943353e-03],\n",
       "        [  9.92146423e-01,   1.06304397e+00,   9.67998656e-01, ...,\n",
       "           1.00111630e+00,   1.02978723e+00,   1.00454545e+00],\n",
       "        [  1.04819449e+00,   1.22681237e+00,   9.60979149e-01, ...,\n",
       "           9.88817055e-01,   1.14609929e+00,   9.78535354e-01],\n",
       "        ..., \n",
       "        [  3.10949919e-01,   5.99968929e-01,   3.48393360e-01, ...,\n",
       "           6.58302604e-01,   2.27133187e-01,   5.69941378e-01],\n",
       "        [  5.72382547e-01,   6.92939034e-01,   3.99802328e-01, ...,\n",
       "           5.91168183e-01,   4.27055320e-01,   4.37103102e-01],\n",
       "        [  6.51271421e+07,   2.79569559e+06,   6.49121603e+05, ...,\n",
       "           5.07422694e+07,   5.60186170e+07,   2.97586553e+08]],\n",
       "\n",
       "       [[  1.34600814e-01,   8.47881819e-04,   8.87290791e-01, ...,\n",
       "           4.29693536e-02,   1.23615765e-03,   3.45094010e-03],\n",
       "        [  1.00544166e+00,   1.02765978e+00,   9.82405255e-01, ...,\n",
       "           1.01630210e+00,   1.00208333e+00,   9.97014925e-01],\n",
       "        [  1.05993291e+00,   1.19219913e+00,   9.69808581e-01, ...,\n",
       "           1.00909004e+00,   1.11840278e+00,   9.66542289e-01],\n",
       "        ..., \n",
       "        [  2.98558804e-01,   5.99968929e-01,   3.94225033e-01, ...,\n",
       "           5.89175027e-01,   2.64158886e-01,   6.11521265e-01],\n",
       "        [  5.18533477e-01,   7.02069850e-01,   3.13135647e-01, ...,\n",
       "           5.26484945e-01,   4.38491912e-01,   4.80254753e-01],\n",
       "        [  6.57476588e+07,   2.75352524e+06,   6.48630611e+05, ...,\n",
       "           5.15832620e+07,   5.49363542e+07,   2.98896343e+08]],\n",
       "\n",
       "       [[  1.32017163e-01,   9.02002346e-04,   8.70319387e-01, ...,\n",
       "           4.28277093e-02,   1.28766422e-03,   3.45094010e-03],\n",
       "        [  1.01875354e+00,   9.65999757e-01,   1.00516945e+00, ...,\n",
       "           1.01250756e+00,   9.64000000e-01,   1.00000000e+00],\n",
       "        [  1.07800682e+00,   1.11433334e+00,   9.90327309e-01, ...,\n",
       "           1.01282828e+00,   1.06866667e+00,   9.69154229e-01],\n",
       "        ..., \n",
       "        [  2.89981139e-01,   5.99968929e-01,   3.10582067e-01, ...,\n",
       "           5.67797050e-01,   2.94508312e-01,   6.31691895e-01],\n",
       "        [  5.12536835e-01,   7.39243297e-01,   2.78193165e-01, ...,\n",
       "           5.29153327e-01,   4.39226332e-01,   4.64435795e-01],\n",
       "        [  6.66380306e+07,   2.61772033e+06,   6.55777849e+05, ...,\n",
       "           5.15314944e+07,   5.28312000e+07,   3.03829328e+08]]])"
      ]
     },
     "execution_count": 79,
     "metadata": {},
     "output_type": "execute_result"
    }
   ],
   "source": [
    "X_train_pnl = np.where(~np.isnan(X_train_pnl),X_train_pnl, 0.0)\n",
    "X_train_pnl = np.where(~np.isinf(X_train_pnl),X_train_pnl, 0.0)\n",
    "X_train_pnl"
   ]
  },
  {
   "cell_type": "code",
   "execution_count": 44,
   "metadata": {
    "collapsed": true
   },
   "outputs": [],
   "source": [
    "scenarioa.load_scenarioa_features(\"MATR\")"
   ]
  },
  {
   "cell_type": "code",
   "execution_count": 43,
   "metadata": {},
   "outputs": [
    {
     "ename": "AttributeError",
     "evalue": "'NoneType' object has no attribute 'set_index'",
     "output_type": "error",
     "traceback": [
      "\u001b[0;31m---------------------------------------------------------------------------\u001b[0m",
      "\u001b[0;31mAttributeError\u001b[0m                            Traceback (most recent call last)",
      "\u001b[0;32m<ipython-input-43-f124289a61eb>\u001b[0m in \u001b[0;36m<module>\u001b[0;34m()\u001b[0m\n\u001b[0;32m----> 1\u001b[0;31m \u001b[0mX_train_pnl\u001b[0m\u001b[0;34m,\u001b[0m \u001b[0my_train_pnl\u001b[0m\u001b[0;34m,\u001b[0m \u001b[0mX_test_pnl\u001b[0m\u001b[0;34m,\u001b[0m \u001b[0my_test_pnl\u001b[0m \u001b[0;34m=\u001b[0m \u001b[0mscenarioa\u001b[0m\u001b[0;34m.\u001b[0m\u001b[0mprepare_problemspace\u001b[0m\u001b[0;34m(\u001b[0m\u001b[0;34m\"LGF\"\u001b[0m\u001b[0;34m,\u001b[0m \u001b[0mtrial\u001b[0m\u001b[0;34m.\u001b[0m\u001b[0mvalid_ticker_list\u001b[0m\u001b[0;34m(\u001b[0m\u001b[0;34m)\u001b[0m\u001b[0;34m,\u001b[0m \u001b[0mtrial\u001b[0m\u001b[0;34m.\u001b[0m\u001b[0mtrain_from\u001b[0m\u001b[0;34m,\u001b[0m \u001b[0mtrial\u001b[0m\u001b[0;34m.\u001b[0m\u001b[0mtrain_until\u001b[0m\u001b[0;34m,\u001b[0m \u001b[0mtrial\u001b[0m\u001b[0;34m.\u001b[0m\u001b[0mtest_from\u001b[0m\u001b[0;34m,\u001b[0m \u001b[0mnormalize\u001b[0m\u001b[0;34m=\u001b[0m\u001b[0;32mTrue\u001b[0m\u001b[0;34m,\u001b[0m \u001b[0mreturn_type\u001b[0m\u001b[0;34m=\u001b[0m\u001b[0;34m\"numpy\"\u001b[0m\u001b[0;34m)\u001b[0m\u001b[0;34m\u001b[0m\u001b[0m\n\u001b[0m",
      "\u001b[0;32m/home/jovyan/work/FintechCapstone/utils/scenarioa.py\u001b[0m in \u001b[0;36mprepare_problemspace\u001b[0;34m(target_ticker, ticker_list, train_from, train_until, test_from, normalize, return_type)\u001b[0m\n\u001b[1;32m    164\u001b[0m                 \u001b[0;31m## Load Features\u001b[0m\u001b[0;34m\u001b[0m\u001b[0;34m\u001b[0m\u001b[0m\n\u001b[1;32m    165\u001b[0m                 \u001b[0mitr_df\u001b[0m \u001b[0;34m=\u001b[0m \u001b[0mload_scenarioa_features\u001b[0m\u001b[0;34m(\u001b[0m\u001b[0mitr_ticker\u001b[0m\u001b[0;34m,\u001b[0m \u001b[0mparseDate\u001b[0m\u001b[0;34m=\u001b[0m\u001b[0;32mTrue\u001b[0m\u001b[0;34m)\u001b[0m\u001b[0;34m\u001b[0m\u001b[0m\n\u001b[0;32m--> 166\u001b[0;31m                 \u001b[0mitr_df\u001b[0m\u001b[0;34m.\u001b[0m\u001b[0mset_index\u001b[0m\u001b[0;34m(\u001b[0m\u001b[0;34m\"Date\"\u001b[0m\u001b[0;34m,\u001b[0m \u001b[0minplace\u001b[0m\u001b[0;34m=\u001b[0m\u001b[0;32mTrue\u001b[0m\u001b[0;34m)\u001b[0m\u001b[0;34m\u001b[0m\u001b[0m\n\u001b[0m\u001b[1;32m    167\u001b[0m \u001b[0;34m\u001b[0m\u001b[0m\n\u001b[1;32m    168\u001b[0m                 \u001b[0;31m# Split Features into Train and Test\u001b[0m\u001b[0;34m\u001b[0m\u001b[0;34m\u001b[0m\u001b[0m\n",
      "\u001b[0;31mAttributeError\u001b[0m: 'NoneType' object has no attribute 'set_index'"
     ]
    }
   ],
   "source": [
    "\n",
    "X_train_pnl, y_train_pnl, X_test_pnl, y_test_pnl = scenarioa.prepare_problemspace(\"LGF\", trial.valid_ticker_list(), trial.train_from, trial.train_until, trial.test_from, normalize=True, return_type=\"numpy\")\n",
    "\n",
    "\n",
    "\n"
   ]
  }
 ],
 "metadata": {
  "anaconda-cloud": {},
  "kernelspec": {
   "display_name": "Python 3",
   "language": "python",
   "name": "python3"
  },
  "language_info": {
   "codemirror_mode": {
    "name": "ipython",
    "version": 3
   },
   "file_extension": ".py",
   "mimetype": "text/x-python",
   "name": "python",
   "nbconvert_exporter": "python",
   "pygments_lexer": "ipython3",
   "version": "3.5.2"
  }
 },
 "nbformat": 4,
 "nbformat_minor": 2
}
