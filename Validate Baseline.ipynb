{
 "cells": [
  {
   "cell_type": "code",
   "execution_count": 18,
   "metadata": {
    "scrolled": true
   },
   "outputs": [
    {
     "name": "stdout",
     "output_type": "stream",
     "text": [
      "The autoreload extension is already loaded. To reload it, use:\n",
      "  %reload_ext autoreload\n"
     ]
    }
   ],
   "source": [
    "%load_ext autoreload\n",
    "%autoreload 2"
   ]
  },
  {
   "cell_type": "code",
   "execution_count": 113,
   "metadata": {
    "collapsed": true
   },
   "outputs": [],
   "source": [
    "from __future__ import print_function\n",
    "\n",
    "import datetime\n",
    "import pandas as pd\n",
    "import numpy as np\n",
    "from dateutil import parser as dtparser\n",
    "\n",
    "from utils.datafetch import *\n",
    "from utils.vectorized_funs import *\n",
    "from utils.datapipe import *\n",
    "from utils.kerasutil import *\n",
    "from utils import baseline_model\n",
    "from FintechCapstone import FinCapstone\n",
    "\n",
    "import matplotlib as mpl\n",
    "import matplotlib.pyplot as plt\n",
    "import seaborn as sns\n",
    "from sklearn.decomposition import PCA"
   ]
  },
  {
   "cell_type": "code",
   "execution_count": 114,
   "metadata": {
    "scrolled": false
   },
   "outputs": [
    {
     "name": "stdout",
     "output_type": "stream",
     "text": [
      "(1/3) Recv. and Stored GLW\n",
      "(2/3) Recv. and Stored HIMX\n",
      "(3/3) Recv. and Stored GLUU\n",
      "Took 0:00:01.415648\n",
      "\n",
      "\n",
      " - GLW - \n",
      "\n",
      "\n",
      "\n",
      " - HIMX - \n",
      "\n",
      "\n",
      "\n",
      " - GLUU - \n",
      "\n"
     ]
    }
   ],
   "source": [
    "%matplotlib inline\n",
    "\n",
    "plt.style.use('seaborn-whitegrid')\n",
    "date_from = '2009-01-01'\n",
    "date_to = '2017-03-01'\n",
    "timespan = {\n",
    "    \"short_term\": [1, 5]\n",
    "    ,\"medium_term\": [40]\n",
    "    ,\"long_term\": [90]\n",
    "}\n",
    "\n",
    "trial = FinCapstone(ticker_list=[\"GLW\",\"HIMX\",\"GLUU\"], ticker_list_samplesize=4, timespan=timespan, date_from=date_from)\n",
    "#trial = FinCapstone(ticker_list=[\"ZHNE\",\"BSFT\",\"AERO\",\"MATR\",\"ITMSF\",\"FIT\",\"TIPT\",\"OLBK\",\"QADA\",\"ATTU\",\"LGF\",\"STX\",\"TPCS\",\"GSAT\",\"ZNGA\",\"GLW\",\"HIMX\",\"YHOO\", \"NWSA\",\"JAKK\",\"GLUU\",\"AMZN\", \"AAPL\", \"EBAY\", \"GOOG\", \"DIS\", \"NFLX\", \"EA\", \"TWTR\", \"FB\", \"TTWO\", \"PXLW\", \"UBI\"], ticker_list_samplesize=4, timespan=timespan, timespan_ab=timespan_ab, date_from=date_from)\n",
    "#trial = FinCapstone(ticker_list_samplesize=200, timespan=timespan, timespan_ab=timespan_ab, date_from=date_from)\n",
    "\n",
    "trial.run_initial_dataload()\n",
    "#trial.feature_engineering(feature_set=\"baseline\")"
   ]
  },
  {
   "cell_type": "code",
   "execution_count": 111,
   "metadata": {
    "collapsed": true
   },
   "outputs": [],
   "source": [
    "X = trial.load_baseline_features(\"GLUU\", True)\n",
    "y = trial.load_baseline_labels(\"GLUU\", True)"
   ]
  },
  {
   "cell_type": "code",
   "execution_count": 112,
   "metadata": {
    "scrolled": true
   },
   "outputs": [
    {
     "name": "stdout",
     "output_type": "stream",
     "text": [
      "| | START     - 2017-04-19 22:19:41.298632\n",
      "\\ / 0/3 - GLW - 0:00:00.003944\n",
      "Epoch 1/1\n",
      "1510/1510 [==============================] - 12s - loss: 0.0136    \n",
      "\\ / 1/3 - HIMX - 0:00:14.421985\n",
      "Epoch 1/1\n",
      "1510/1510 [==============================] - 12s - loss: 0.0787    \n",
      "\\ / 2/3 - GLUU - 0:00:14.934473\n",
      "Epoch 1/1\n",
      "1510/1510 [==============================] - 12s - loss: 0.0790    \n",
      " V  END       - 2017-04-19 22:20:25.235917 (TOOK 0:00:43.937285)\n"
     ]
    },
    {
     "data": {
      "text/plain": [
       "array([0.27076923076923076, 0.024615384615384615, 0.061538461538461542], dtype=object)"
      ]
     },
     "execution_count": 112,
     "metadata": {},
     "output_type": "execute_result"
    }
   ],
   "source": [
    "trial.train_baseline(nb_epoch=1)"
   ]
  },
  {
   "cell_type": "code",
   "execution_count": 126,
   "metadata": {
    "scrolled": true
   },
   "outputs": [
    {
     "data": {
      "text/plain": [
       "array([[ 0.20298156,  0.06928657, -0.01565512, -0.01047928],\n",
       "       [ 0.20523793,  0.06940616, -0.0155926 , -0.01148737],\n",
       "       [ 0.20318104,  0.06927153, -0.01564805, -0.01061937],\n",
       "       ..., \n",
       "       [ 0.22970466,  0.07659724, -0.01720482, -0.00901401],\n",
       "       [ 0.20546241,  0.06947213, -0.01560837, -0.01146708],\n",
       "       [ 0.20205401,  0.07046437, -0.01547432, -0.00859147]], dtype=float32)"
      ]
     },
     "execution_count": 126,
     "metadata": {},
     "output_type": "execute_result"
    }
   ],
   "source": [
    "ticker = \"HIMX\"\n",
    "y_pred = trial.predict_baseline(ticker)\n",
    "y_pred"
   ]
  },
  {
   "cell_type": "code",
   "execution_count": 127,
   "metadata": {
    "collapsed": true
   },
   "outputs": [],
   "source": [
    "features_df = trial.load_baseline_features(ticker, parseDate=True)\n",
    "features_df.set_index(\"Date\", inplace=True)\n",
    "\n",
    "labels_df = trial.load_baseline_labels(ticker, parseDate=True)\n",
    "labels_df.set_index(\"Date\", inplace=True)\n",
    "\n",
    "model = baseline_model.create_model()\n",
    "X_train, y_train, X_test, y_test = baseline_model.prepare_problemspace(features_df, labels_df, trial.train_from, trial.train_until, trial.test_from)\n",
    "\n"
   ]
  },
  {
   "cell_type": "code",
   "execution_count": 128,
   "metadata": {},
   "outputs": [
    {
     "data": {
      "text/plain": [
       "0.024615384615384615"
      ]
     },
     "execution_count": 128,
     "metadata": {},
     "output_type": "execute_result"
    }
   ],
   "source": [
    "from sklearn.metrics import accuracy_score\n",
    "accuracy_score((y_test > 0.0) * 1.0, (y_pred > 0.0) * 1.0)"
   ]
  }
 ],
 "metadata": {
  "kernelspec": {
   "display_name": "Python 3",
   "language": "python",
   "name": "python3"
  },
  "language_info": {
   "codemirror_mode": {
    "name": "ipython",
    "version": 3
   },
   "file_extension": ".py",
   "mimetype": "text/x-python",
   "name": "python",
   "nbconvert_exporter": "python",
   "pygments_lexer": "ipython3",
   "version": "3.5.2"
  }
 },
 "nbformat": 4,
 "nbformat_minor": 2
}
