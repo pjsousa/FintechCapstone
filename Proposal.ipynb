{
 "cells": [
  {
   "cell_type": "code",
   "execution_count": 1,
   "metadata": {
    "collapsed": false
   },
   "outputs": [],
   "source": [
    "%load_ext autoreload\n",
    "%autoreload 2"
   ]
  },
  {
   "cell_type": "code",
   "execution_count": null,
   "metadata": {
    "collapsed": true
   },
   "outputs": [],
   "source": []
  },
  {
   "cell_type": "code",
   "execution_count": 2,
   "metadata": {
    "collapsed": false
   },
   "outputs": [
    {
     "name": "stderr",
     "output_type": "stream",
     "text": [
      "Using TensorFlow backend.\n"
     ]
    }
   ],
   "source": [
    "import datetime\n",
    "import pandas as pd\n",
    "import numpy as np\n",
    "from functools import partial\n",
    "from dateutil import parser as dtparser\n",
    "\n",
    "from utils.datafetch import *\n",
    "from utils.vectorized_funs import *\n",
    "from utils.datapipe import *\n",
    "from utils.kerasutil import *\n",
    "from FintechCapstone import FinCapstone\n",
    "\n",
    "import matplotlib as mpl\n",
    "import matplotlib.pyplot as plt\n",
    "import seaborn as sns\n",
    "\n",
    "#%matplotlib inline\n"
   ]
  },
  {
   "cell_type": "code",
   "execution_count": 3,
   "metadata": {
    "collapsed": false
   },
   "outputs": [
    {
     "name": "stdout",
     "output_type": "stream",
     "text": [
      "nasdaq has 3188 tickers.\n",
      "\n",
      "\n",
      "Final dataset has 3188 records\n",
      "(OK) Final dataset has 3188 distinct tickers\n"
     ]
    }
   ],
   "source": [
    "date_from = '2009-01-01'\n",
    "date_to = '2017-03-01'\n",
    "timespan = {\n",
    "    \"short_term\": [1, 5]\n",
    "    ,\"medium_term\": [40]\n",
    "    ,\"long_term\": [90]\n",
    "}\n",
    "\n",
    "timespan_ab = {\n",
    "    \"short_term\": []\n",
    "    ,\"medium_term\": [30]\n",
    "    ,\"long_term\": []\n",
    "}\n",
    "\n",
    "#trial = FinCapstone(ticker_list=[\"AAPL\", \"GOOG\", \"DIS\", \"NFLX\", \"EA\", \"TWTR\"], ticker_list_samplesize=4, timespan=timespan, timespan_ab=timespan_ab, date_from=date_from)\n",
    "trial = FinCapstone(ticker_list_samplesize=1, timespan=timespan, timespan_ab=timespan_ab, date_from=date_from)"
   ]
  },
  {
   "cell_type": "code",
   "execution_count": 4,
   "metadata": {
    "collapsed": false,
    "scrolled": false
   },
   "outputs": [
    {
     "name": "stdout",
     "output_type": "stream",
     "text": [
      "(1/1) Recv. and Stored PIH\n",
      "Took 0:00:00.390836\n"
     ]
    }
   ],
   "source": [
    "trial.run_initial_dataload()"
   ]
  },
  {
   "cell_type": "code",
   "execution_count": 5,
   "metadata": {
    "collapsed": false,
    "scrolled": false
   },
   "outputs": [
    {
     "name": "stdout",
     "output_type": "stream",
     "text": [
      "\n",
      "\n",
      " - PIH - \n",
      "\n",
      "| | START     - 2017-04-16 01:08:21.370002\n",
      " V  END       - 2017-04-16 01:08:21.383005 (TOOK 0:00:00.013003)\n",
      "| | START     - 2017-04-16 01:08:21.397716\n",
      "\\ / RETURNS - 0:00:00.029389\n",
      " V  END       - 2017-04-16 01:08:21.427156 (TOOK 0:00:00.029440)\n"
     ]
    }
   ],
   "source": [
    "trial.feature_engineering(feature_set=\"baseline\")"
   ]
  },
  {
   "cell_type": "code",
   "execution_count": 6,
   "metadata": {
    "collapsed": false
   },
   "outputs": [
    {
     "data": {
      "text/html": [
       "<div>\n",
       "<table border=\"1\" class=\"dataframe\">\n",
       "  <thead>\n",
       "    <tr style=\"text-align: right;\">\n",
       "      <th></th>\n",
       "      <th>Date</th>\n",
       "      <th>timewindow_return_1_Open</th>\n",
       "      <th>timewindow_return_1_High</th>\n",
       "      <th>timewindow_return_1_Low</th>\n",
       "      <th>timewindow_return_1_Volume</th>\n",
       "    </tr>\n",
       "  </thead>\n",
       "  <tbody>\n",
       "    <tr>\n",
       "      <th>0</th>\n",
       "      <td>2009-01-02</td>\n",
       "      <td>1.000000e-128</td>\n",
       "      <td>1.000000e-128</td>\n",
       "      <td>1.000000e-128</td>\n",
       "      <td>1.000000e-128</td>\n",
       "    </tr>\n",
       "    <tr>\n",
       "      <th>1</th>\n",
       "      <td>2009-01-05</td>\n",
       "      <td>2.608394e-02</td>\n",
       "      <td>4.721311e-02</td>\n",
       "      <td>2.448976e-02</td>\n",
       "      <td>9.748834e-01</td>\n",
       "    </tr>\n",
       "    <tr>\n",
       "      <th>2</th>\n",
       "      <td>2009-01-06</td>\n",
       "      <td>6.107633e-02</td>\n",
       "      <td>4.101440e-02</td>\n",
       "      <td>6.673317e-02</td>\n",
       "      <td>-7.502012e-02</td>\n",
       "    </tr>\n",
       "    <tr>\n",
       "      <th>3</th>\n",
       "      <td>2009-01-07</td>\n",
       "      <td>2.706907e-02</td>\n",
       "      <td>-3.308241e-03</td>\n",
       "      <td>-4.046063e-03</td>\n",
       "      <td>-1.601207e-01</td>\n",
       "    </tr>\n",
       "    <tr>\n",
       "      <th>4</th>\n",
       "      <td>2009-01-08</td>\n",
       "      <td>-2.059988e-02</td>\n",
       "      <td>1.327701e-02</td>\n",
       "      <td>-1.875000e-02</td>\n",
       "      <td>-1.932721e-01</td>\n",
       "    </tr>\n",
       "  </tbody>\n",
       "</table>\n",
       "</div>"
      ],
      "text/plain": [
       "        Date  timewindow_return_1_Open  timewindow_return_1_High  \\\n",
       "0 2009-01-02             1.000000e-128             1.000000e-128   \n",
       "1 2009-01-05              2.608394e-02              4.721311e-02   \n",
       "2 2009-01-06              6.107633e-02              4.101440e-02   \n",
       "3 2009-01-07              2.706907e-02             -3.308241e-03   \n",
       "4 2009-01-08             -2.059988e-02              1.327701e-02   \n",
       "\n",
       "   timewindow_return_1_Low  timewindow_return_1_Volume  \n",
       "0            1.000000e-128               1.000000e-128  \n",
       "1             2.448976e-02                9.748834e-01  \n",
       "2             6.673317e-02               -7.502012e-02  \n",
       "3            -4.046063e-03               -1.601207e-01  \n",
       "4            -1.875000e-02               -1.932721e-01  "
      ]
     },
     "execution_count": 6,
     "metadata": {},
     "output_type": "execute_result"
    }
   ],
   "source": [
    "trial.load_baseline_features(\"NFLX\").head()"
   ]
  },
  {
   "cell_type": "code",
   "execution_count": 7,
   "metadata": {
    "collapsed": false
   },
   "outputs": [
    {
     "data": {
      "text/html": [
       "<div>\n",
       "<table border=\"1\" class=\"dataframe\">\n",
       "  <thead>\n",
       "    <tr style=\"text-align: right;\">\n",
       "      <th></th>\n",
       "      <th>Date</th>\n",
       "      <th>timewindow_return_90_Close</th>\n",
       "      <th>timewindow_return_1_Close</th>\n",
       "      <th>timewindow_return_5_Close</th>\n",
       "      <th>timewindow_return_40_Close</th>\n",
       "    </tr>\n",
       "  </thead>\n",
       "  <tbody>\n",
       "    <tr>\n",
       "      <th>0</th>\n",
       "      <td>2009-01-02</td>\n",
       "      <td>0.260462</td>\n",
       "      <td>0.069300</td>\n",
       "      <td>0.080013</td>\n",
       "      <td>0.217275</td>\n",
       "    </tr>\n",
       "    <tr>\n",
       "      <th>1</th>\n",
       "      <td>2009-01-05</td>\n",
       "      <td>0.160927</td>\n",
       "      <td>0.031309</td>\n",
       "      <td>-0.022855</td>\n",
       "      <td>0.180651</td>\n",
       "    </tr>\n",
       "    <tr>\n",
       "      <th>2</th>\n",
       "      <td>2009-01-06</td>\n",
       "      <td>0.168792</td>\n",
       "      <td>-0.006982</td>\n",
       "      <td>-0.060716</td>\n",
       "      <td>0.150577</td>\n",
       "    </tr>\n",
       "    <tr>\n",
       "      <th>3</th>\n",
       "      <td>2009-01-07</td>\n",
       "      <td>0.185264</td>\n",
       "      <td>0.013452</td>\n",
       "      <td>-0.096912</td>\n",
       "      <td>0.167227</td>\n",
       "    </tr>\n",
       "    <tr>\n",
       "      <th>4</th>\n",
       "      <td>2009-01-08</td>\n",
       "      <td>0.195475</td>\n",
       "      <td>-0.026848</td>\n",
       "      <td>-0.046154</td>\n",
       "      <td>0.161388</td>\n",
       "    </tr>\n",
       "  </tbody>\n",
       "</table>\n",
       "</div>"
      ],
      "text/plain": [
       "        Date  timewindow_return_90_Close  timewindow_return_1_Close  \\\n",
       "0 2009-01-02                    0.260462                   0.069300   \n",
       "1 2009-01-05                    0.160927                   0.031309   \n",
       "2 2009-01-06                    0.168792                  -0.006982   \n",
       "3 2009-01-07                    0.185264                   0.013452   \n",
       "4 2009-01-08                    0.195475                  -0.026848   \n",
       "\n",
       "   timewindow_return_5_Close  timewindow_return_40_Close  \n",
       "0                   0.080013                    0.217275  \n",
       "1                  -0.022855                    0.180651  \n",
       "2                  -0.060716                    0.150577  \n",
       "3                  -0.096912                    0.167227  \n",
       "4                  -0.046154                    0.161388  "
      ]
     },
     "execution_count": 7,
     "metadata": {},
     "output_type": "execute_result"
    }
   ],
   "source": [
    "trial.load_baseline_labels(\"NFLX\").head()"
   ]
  },
  {
   "cell_type": "code",
   "execution_count": null,
   "metadata": {
    "collapsed": false,
    "scrolled": false
   },
   "outputs": [
    {
     "name": "stdout",
     "output_type": "stream",
     "text": [
      "| | START     - 2017-04-16 01:08:27.113196\n",
      "\\ / 0/1 - PIH - 0:00:00.003973\n",
      "Epoch 1/100\n",
      "256/443 [================>.............] - ETA: 4s - loss: 0.0090"
     ]
    }
   ],
   "source": [
    "trial.load_train_eval_baseline()"
   ]
  },
  {
   "cell_type": "code",
   "execution_count": null,
   "metadata": {
    "collapsed": true
   },
   "outputs": [],
   "source": []
  }
 ],
 "metadata": {
  "kernelspec": {
   "display_name": "Python 3",
   "language": "python",
   "name": "python3"
  },
  "language_info": {
   "codemirror_mode": {
    "name": "ipython",
    "version": 3
   },
   "file_extension": ".py",
   "mimetype": "text/x-python",
   "name": "python",
   "nbconvert_exporter": "python",
   "pygments_lexer": "ipython3",
   "version": "3.5.3"
  },
  "widgets": {
   "state": {},
   "version": "1.1.1"
  }
 },
 "nbformat": 4,
 "nbformat_minor": 0
}
