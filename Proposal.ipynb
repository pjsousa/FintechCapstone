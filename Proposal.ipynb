{
 "cells": [
  {
   "cell_type": "code",
   "execution_count": 1,
   "metadata": {
    "collapsed": false
   },
   "outputs": [],
   "source": [
    "%load_ext autoreload\n",
    "%autoreload 2"
   ]
  },
  {
   "cell_type": "code",
   "execution_count": null,
   "metadata": {
    "collapsed": true
   },
   "outputs": [],
   "source": []
  },
  {
   "cell_type": "code",
   "execution_count": 2,
   "metadata": {
    "collapsed": false
   },
   "outputs": [
    {
     "name": "stderr",
     "output_type": "stream",
     "text": [
      "Using Theano backend.\n",
      "WARNING (theano.sandbox.cuda): The cuda backend is deprecated and will be removed in the next release (v0.10).  Please switch to the gpuarray backend. You can get more information about how to switch at this URL:\n",
      " https://github.com/Theano/Theano/wiki/Converting-to-the-new-gpu-back-end%28gpuarray%29\n",
      "\n",
      "Using gpu device 0: GeForce GTX 1070 (CNMeM is disabled, cuDNN 5105)\n"
     ]
    }
   ],
   "source": [
    "import datetime\n",
    "import pandas as pd\n",
    "import numpy as np\n",
    "from functools import partial\n",
    "from dateutil import parser as dtparser\n",
    "\n",
    "from utils.datafetch import *\n",
    "from utils.vectorized_funs import *\n",
    "from utils.datapipe import *\n",
    "from utils.kerasutil import *\n",
    "from FintechCapstone import FinCapstone\n",
    "\n",
    "import matplotlib as mpl\n",
    "import matplotlib.pyplot as plt\n",
    "import seaborn as sns\n",
    "\n",
    "#%matplotlib inline\n"
   ]
  },
  {
   "cell_type": "code",
   "execution_count": 3,
   "metadata": {
    "collapsed": false
   },
   "outputs": [],
   "source": [
    "date_from = '2009-01-01'\n",
    "date_to = '2017-03-01'\n",
    "timespan = {\n",
    "    \"short_term\": [1, 5]\n",
    "    ,\"medium_term\": [40]\n",
    "    ,\"long_term\": [90]\n",
    "}\n",
    "\n",
    "timespan_ab = {\n",
    "    \"short_term\": []\n",
    "    ,\"medium_term\": [30]\n",
    "    ,\"long_term\": []\n",
    "}\n",
    "\n",
    "#trial = FinCapstone(ticker_list=[\"AAPL\", \"GOOG\", \"DIS\", \"NFLX\", \"EA\", \"TWTR\"], ticker_list_samplesize=4, timespan=timespan, timespan_ab=timespan_ab, date_from=date_from)\n",
    "trial = FinCapstone(ticker_list_samplesize=4000, timespan=timespan, timespan_ab=timespan_ab, date_from=date_from)"
   ]
  },
  {
   "cell_type": "code",
   "execution_count": 4,
   "metadata": {
    "collapsed": false,
    "scrolled": false
   },
   "outputs": [
    {
     "name": "stdout",
     "output_type": "stream",
     "text": [
      "(1/6) Recv. and Stored AAPL\n",
      "(2/6) Recv. and Stored GOOG\n",
      "(3/6) Recv. and Stored DIS\n",
      "(4/6) Recv. and Stored NFLX\n",
      "(5/6) Recv. and Stored EA\n",
      "(6/6) Recv. and Stored TWTR\n",
      "Took 0:00:05.187407\n"
     ]
    }
   ],
   "source": [
    "trial.run_initial_dataload()"
   ]
  },
  {
   "cell_type": "code",
   "execution_count": 5,
   "metadata": {
    "collapsed": false,
    "scrolled": false
   },
   "outputs": [
    {
     "name": "stdout",
     "output_type": "stream",
     "text": [
      "\n",
      "\n",
      " - AAPL - \n",
      "\n",
      "| | START     - 2017-04-15 00:42:36.486892\n",
      " V  END       - 2017-04-15 00:42:36.491130 (TOOK 0:00:00.004238)\n",
      "| | START     - 2017-04-15 00:42:36.505555\n",
      "\\ / RETURNS - 0:00:00.008923\n",
      " V  END       - 2017-04-15 00:42:36.514495 (TOOK 0:00:00.008940)\n",
      "\n",
      "\n",
      " - GOOG - \n",
      "\n",
      "| | START     - 2017-04-15 00:42:36.532556\n",
      " V  END       - 2017-04-15 00:42:36.536387 (TOOK 0:00:00.003831)\n",
      "| | START     - 2017-04-15 00:42:36.549271\n",
      "\\ / RETURNS - 0:00:00.008805\n",
      " V  END       - 2017-04-15 00:42:36.558093 (TOOK 0:00:00.008822)\n",
      "\n",
      "\n",
      " - DIS - \n",
      "\n",
      "| | START     - 2017-04-15 00:42:36.586086\n",
      " V  END       - 2017-04-15 00:42:36.590091 (TOOK 0:00:00.004005)\n",
      "| | START     - 2017-04-15 00:42:36.603147\n",
      "\\ / RETURNS - 0:00:00.008903\n",
      " V  END       - 2017-04-15 00:42:36.612066 (TOOK 0:00:00.008919)\n",
      "\n",
      "\n",
      " - NFLX - \n",
      "\n",
      "| | START     - 2017-04-15 00:42:36.630472\n",
      " V  END       - 2017-04-15 00:42:36.634303 (TOOK 0:00:00.003831)\n",
      "| | START     - 2017-04-15 00:42:36.647187\n",
      "\\ / RETURNS - 0:00:00.008899\n",
      " V  END       - 2017-04-15 00:42:36.656103 (TOOK 0:00:00.008916)\n",
      "\n",
      "\n",
      " - EA - \n",
      "\n",
      "| | START     - 2017-04-15 00:42:36.677451\n",
      " V  END       - 2017-04-15 00:42:36.682227 (TOOK 0:00:00.004776)\n",
      "| | START     - 2017-04-15 00:42:36.695353\n",
      "\\ / RETURNS - 0:00:00.008912\n",
      " V  END       - 2017-04-15 00:42:36.704282 (TOOK 0:00:00.008929)\n",
      "\n",
      "\n",
      " - TWTR - \n",
      "\n",
      "| | START     - 2017-04-15 00:42:36.719856\n",
      " V  END       - 2017-04-15 00:42:36.723562 (TOOK 0:00:00.003706)\n",
      "| | START     - 2017-04-15 00:42:36.729017\n",
      "\\ / RETURNS - 0:00:00.008691\n",
      " V  END       - 2017-04-15 00:42:36.737724 (TOOK 0:00:00.008707)\n"
     ]
    }
   ],
   "source": [
    "trial.feature_engineering(feature_set=\"baseline\")"
   ]
  },
  {
   "cell_type": "code",
   "execution_count": 6,
   "metadata": {
    "collapsed": false
   },
   "outputs": [
    {
     "data": {
      "text/html": [
       "<div>\n",
       "<table border=\"1\" class=\"dataframe\">\n",
       "  <thead>\n",
       "    <tr style=\"text-align: right;\">\n",
       "      <th></th>\n",
       "      <th>Date</th>\n",
       "      <th>timewindow_return_1_Open</th>\n",
       "      <th>timewindow_return_1_High</th>\n",
       "      <th>timewindow_return_1_Low</th>\n",
       "      <th>timewindow_return_1_Volume</th>\n",
       "    </tr>\n",
       "  </thead>\n",
       "  <tbody>\n",
       "    <tr>\n",
       "      <th>0</th>\n",
       "      <td>2009-01-02</td>\n",
       "      <td>1.000000e-128</td>\n",
       "      <td>1.000000e-128</td>\n",
       "      <td>1.000000e-128</td>\n",
       "      <td>1.000000e-128</td>\n",
       "    </tr>\n",
       "    <tr>\n",
       "      <th>1</th>\n",
       "      <td>2009-01-05</td>\n",
       "      <td>2.608394e-02</td>\n",
       "      <td>4.721311e-02</td>\n",
       "      <td>2.448976e-02</td>\n",
       "      <td>9.748834e-01</td>\n",
       "    </tr>\n",
       "    <tr>\n",
       "      <th>2</th>\n",
       "      <td>2009-01-06</td>\n",
       "      <td>6.107633e-02</td>\n",
       "      <td>4.101440e-02</td>\n",
       "      <td>6.673317e-02</td>\n",
       "      <td>-7.502012e-02</td>\n",
       "    </tr>\n",
       "    <tr>\n",
       "      <th>3</th>\n",
       "      <td>2009-01-07</td>\n",
       "      <td>2.706907e-02</td>\n",
       "      <td>-3.308241e-03</td>\n",
       "      <td>-4.046063e-03</td>\n",
       "      <td>-1.601207e-01</td>\n",
       "    </tr>\n",
       "    <tr>\n",
       "      <th>4</th>\n",
       "      <td>2009-01-08</td>\n",
       "      <td>-2.059988e-02</td>\n",
       "      <td>1.327701e-02</td>\n",
       "      <td>-1.875000e-02</td>\n",
       "      <td>-1.932721e-01</td>\n",
       "    </tr>\n",
       "  </tbody>\n",
       "</table>\n",
       "</div>"
      ],
      "text/plain": [
       "        Date  timewindow_return_1_Open  timewindow_return_1_High  \\\n",
       "0 2009-01-02             1.000000e-128             1.000000e-128   \n",
       "1 2009-01-05              2.608394e-02              4.721311e-02   \n",
       "2 2009-01-06              6.107633e-02              4.101440e-02   \n",
       "3 2009-01-07              2.706907e-02             -3.308241e-03   \n",
       "4 2009-01-08             -2.059988e-02              1.327701e-02   \n",
       "\n",
       "   timewindow_return_1_Low  timewindow_return_1_Volume  \n",
       "0            1.000000e-128               1.000000e-128  \n",
       "1             2.448976e-02                9.748834e-01  \n",
       "2             6.673317e-02               -7.502012e-02  \n",
       "3            -4.046063e-03               -1.601207e-01  \n",
       "4            -1.875000e-02               -1.932721e-01  "
      ]
     },
     "execution_count": 6,
     "metadata": {},
     "output_type": "execute_result"
    }
   ],
   "source": [
    "trial.load_baseline_features(\"NFLX\").head()"
   ]
  },
  {
   "cell_type": "code",
   "execution_count": 7,
   "metadata": {
    "collapsed": false
   },
   "outputs": [
    {
     "data": {
      "text/html": [
       "<div>\n",
       "<table border=\"1\" class=\"dataframe\">\n",
       "  <thead>\n",
       "    <tr style=\"text-align: right;\">\n",
       "      <th></th>\n",
       "      <th>Date</th>\n",
       "      <th>timewindow_return_40_Close</th>\n",
       "      <th>timewindow_return_1_Close</th>\n",
       "      <th>timewindow_return_5_Close</th>\n",
       "      <th>timewindow_return_90_Close</th>\n",
       "    </tr>\n",
       "  </thead>\n",
       "  <tbody>\n",
       "    <tr>\n",
       "      <th>0</th>\n",
       "      <td>2009-01-02</td>\n",
       "      <td>0.217275</td>\n",
       "      <td>0.069300</td>\n",
       "      <td>0.080013</td>\n",
       "      <td>0.260462</td>\n",
       "    </tr>\n",
       "    <tr>\n",
       "      <th>1</th>\n",
       "      <td>2009-01-05</td>\n",
       "      <td>0.180651</td>\n",
       "      <td>0.031309</td>\n",
       "      <td>-0.022855</td>\n",
       "      <td>0.160927</td>\n",
       "    </tr>\n",
       "    <tr>\n",
       "      <th>2</th>\n",
       "      <td>2009-01-06</td>\n",
       "      <td>0.150577</td>\n",
       "      <td>-0.006982</td>\n",
       "      <td>-0.060716</td>\n",
       "      <td>0.168792</td>\n",
       "    </tr>\n",
       "    <tr>\n",
       "      <th>3</th>\n",
       "      <td>2009-01-07</td>\n",
       "      <td>0.167227</td>\n",
       "      <td>0.013452</td>\n",
       "      <td>-0.096912</td>\n",
       "      <td>0.185264</td>\n",
       "    </tr>\n",
       "    <tr>\n",
       "      <th>4</th>\n",
       "      <td>2009-01-08</td>\n",
       "      <td>0.161388</td>\n",
       "      <td>-0.026848</td>\n",
       "      <td>-0.046154</td>\n",
       "      <td>0.195475</td>\n",
       "    </tr>\n",
       "  </tbody>\n",
       "</table>\n",
       "</div>"
      ],
      "text/plain": [
       "        Date  timewindow_return_40_Close  timewindow_return_1_Close  \\\n",
       "0 2009-01-02                    0.217275                   0.069300   \n",
       "1 2009-01-05                    0.180651                   0.031309   \n",
       "2 2009-01-06                    0.150577                  -0.006982   \n",
       "3 2009-01-07                    0.167227                   0.013452   \n",
       "4 2009-01-08                    0.161388                  -0.026848   \n",
       "\n",
       "   timewindow_return_5_Close  timewindow_return_90_Close  \n",
       "0                   0.080013                    0.260462  \n",
       "1                  -0.022855                    0.160927  \n",
       "2                  -0.060716                    0.168792  \n",
       "3                  -0.096912                    0.185264  \n",
       "4                  -0.046154                    0.195475  "
      ]
     },
     "execution_count": 7,
     "metadata": {},
     "output_type": "execute_result"
    }
   ],
   "source": [
    "trial.load_baseline_labels(\"NFLX\").head()"
   ]
  },
  {
   "cell_type": "code",
   "execution_count": null,
   "metadata": {
    "collapsed": false,
    "scrolled": false
   },
   "outputs": [
    {
     "name": "stdout",
     "output_type": "stream",
     "text": [
      "| | START     - 2017-04-15 00:42:44.666755\n",
      "\\ / 0/6 - AAPL - 0:00:00.001413\n",
      "Epoch 1/100\n",
      "1510/1510 [==============================] - 0s - loss: 0.0283     \n",
      "Epoch 2/100\n",
      "1510/1510 [==============================] - 0s - loss: 0.0276     \n",
      "Epoch 3/100\n",
      "1510/1510 [==============================] - 0s - loss: 0.0276     \n",
      "Epoch 4/100\n",
      "1510/1510 [==============================] - 0s - loss: 0.0276     \n",
      "Epoch 5/100\n",
      "1510/1510 [==============================] - 0s - loss: 0.0275     \n",
      "Epoch 6/100\n",
      "1510/1510 [==============================] - 0s - loss: 0.0276     \n",
      "Epoch 7/100\n",
      "1510/1510 [==============================] - 0s - loss: 0.0276     \n",
      "Epoch 8/100\n",
      "1510/1510 [==============================] - 0s - loss: 0.0276     \n",
      "Epoch 9/100\n",
      "1510/1510 [==============================] - 0s - loss: 0.0275     \n",
      "Epoch 10/100\n",
      "1510/1510 [==============================] - 0s - loss: 0.0275     \n",
      "Epoch 11/100\n",
      "1510/1510 [==============================] - 0s - loss: 0.0275     \n",
      "Epoch 12/100\n",
      "1510/1510 [==============================] - 0s - loss: 0.0275     \n",
      "Epoch 13/100\n",
      "1510/1510 [==============================] - 0s - loss: 0.0275     \n",
      "Epoch 14/100\n",
      "1510/1510 [==============================] - 0s - loss: 0.0275     \n",
      "Epoch 15/100\n",
      "1510/1510 [==============================] - 0s - loss: 0.0275     \n",
      "Epoch 16/100\n",
      "1510/1510 [==============================] - 0s - loss: 0.0275     \n",
      "Epoch 17/100\n",
      "1510/1510 [==============================] - 0s - loss: 0.0275     \n",
      "Epoch 18/100\n",
      "1510/1510 [==============================] - 0s - loss: 0.0275     \n",
      "Epoch 19/100\n",
      "1510/1510 [==============================] - 0s - loss: 0.0275     \n",
      "Epoch 20/100\n",
      "1510/1510 [==============================] - 0s - loss: 0.0275     \n",
      "Epoch 21/100\n",
      "1510/1510 [==============================] - 0s - loss: 0.0275     \n",
      "Epoch 22/100\n",
      "1510/1510 [==============================] - 0s - loss: 0.0275     \n",
      "Epoch 23/100\n",
      "1510/1510 [==============================] - 0s - loss: 0.0275     \n",
      "Epoch 24/100\n",
      "1510/1510 [==============================] - 0s - loss: 0.0275     \n",
      "Epoch 25/100\n",
      "1510/1510 [==============================] - 0s - loss: 0.0275     \n",
      "Epoch 26/100\n",
      "1510/1510 [==============================] - 0s - loss: 0.0276     \n",
      "Epoch 27/100\n",
      "1510/1510 [==============================] - 0s - loss: 0.0275     \n",
      "Epoch 28/100\n",
      "1510/1510 [==============================] - 0s - loss: 0.0275     \n",
      "Epoch 29/100\n",
      "1510/1510 [==============================] - 0s - loss: 0.0275     \n",
      "Epoch 30/100\n",
      "1510/1510 [==============================] - 0s - loss: 0.0275     \n",
      "Epoch 31/100\n",
      "1510/1510 [==============================] - 0s - loss: 0.0276     \n",
      "Epoch 32/100\n",
      "1510/1510 [==============================] - 0s - loss: 0.0276     \n",
      "Epoch 33/100\n",
      "1510/1510 [==============================] - 0s - loss: 0.0275     \n",
      "Epoch 34/100\n",
      "1510/1510 [==============================] - 0s - loss: 0.0275     \n",
      "Epoch 35/100\n",
      "1510/1510 [==============================] - 0s - loss: 0.0275     \n",
      "Epoch 36/100\n",
      "1510/1510 [==============================] - 0s - loss: 0.0275     \n",
      "Epoch 37/100\n",
      "1510/1510 [==============================] - 0s - loss: 0.0275     \n",
      "Epoch 38/100\n",
      "1510/1510 [==============================] - 0s - loss: 0.0275     \n",
      "Epoch 39/100\n",
      "1510/1510 [==============================] - 0s - loss: 0.0275     \n",
      "Epoch 40/100\n",
      "1510/1510 [==============================] - 0s - loss: 0.0275     \n",
      "Epoch 41/100\n",
      "1510/1510 [==============================] - 0s - loss: 0.0275     \n",
      "Epoch 42/100\n",
      "1510/1510 [==============================] - 0s - loss: 0.0275     \n",
      "Epoch 43/100\n",
      "1510/1510 [==============================] - 0s - loss: 0.0275     \n",
      "Epoch 44/100\n",
      "1510/1510 [==============================] - 0s - loss: 0.0275     \n",
      "Epoch 45/100\n",
      "1510/1510 [==============================] - 0s - loss: 0.0277     \n",
      "Epoch 46/100\n",
      "1510/1510 [==============================] - 0s - loss: 0.0275     \n",
      "Epoch 47/100\n",
      "1510/1510 [==============================] - 0s - loss: 0.0275     \n",
      "Epoch 48/100\n",
      "1510/1510 [==============================] - 0s - loss: 0.0275     \n",
      "Epoch 49/100\n",
      "1510/1510 [==============================] - 0s - loss: 0.0275     \n",
      "Epoch 50/100\n",
      "1510/1510 [==============================] - 0s - loss: 0.0276     \n",
      "Epoch 51/100\n",
      "1510/1510 [==============================] - 0s - loss: 0.0275     \n",
      "Epoch 52/100\n",
      "1510/1510 [==============================] - 0s - loss: 0.0275     \n",
      "Epoch 53/100\n",
      "1510/1510 [==============================] - 0s - loss: 0.0275     \n",
      "Epoch 54/100\n",
      "1510/1510 [==============================] - 0s - loss: 0.0275     \n",
      "Epoch 55/100\n",
      "1510/1510 [==============================] - 0s - loss: 0.0275     \n",
      "Epoch 56/100\n",
      "1510/1510 [==============================] - 0s - loss: 0.0275     \n",
      "Epoch 57/100\n",
      "1510/1510 [==============================] - 0s - loss: 0.0276     \n",
      "Epoch 58/100\n",
      "1510/1510 [==============================] - 0s - loss: 0.0275     \n",
      "Epoch 59/100\n",
      "1510/1510 [==============================] - 0s - loss: 0.0275     \n",
      "Epoch 60/100\n",
      "1510/1510 [==============================] - 0s - loss: 0.0276     \n",
      "Epoch 61/100\n",
      "1510/1510 [==============================] - 0s - loss: 0.0275     \n",
      "Epoch 62/100\n",
      "1510/1510 [==============================] - 0s - loss: 0.0275     \n",
      "Epoch 63/100\n",
      "1510/1510 [==============================] - 0s - loss: 0.0275     \n",
      "Epoch 64/100\n",
      " 832/1510 [===============>..............] - ETA: 0s - loss: 0.0275"
     ]
    }
   ],
   "source": [
    "trial.load_train_eval_baseline()"
   ]
  },
  {
   "cell_type": "code",
   "execution_count": null,
   "metadata": {
    "collapsed": true
   },
   "outputs": [],
   "source": []
  }
 ],
 "metadata": {
  "kernelspec": {
   "display_name": "Python [default]",
   "language": "python",
   "name": "python3"
  },
  "language_info": {
   "codemirror_mode": {
    "name": "ipython",
    "version": 3
   },
   "file_extension": ".py",
   "mimetype": "text/x-python",
   "name": "python",
   "nbconvert_exporter": "python",
   "pygments_lexer": "ipython3",
   "version": "3.5.2"
  }
 },
 "nbformat": 4,
 "nbformat_minor": 0
}
