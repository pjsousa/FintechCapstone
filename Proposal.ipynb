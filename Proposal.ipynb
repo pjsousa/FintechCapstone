{
 "cells": [
  {
   "cell_type": "code",
   "execution_count": 74,
   "metadata": {
    "collapsed": false
   },
   "outputs": [
    {
     "name": "stdout",
     "output_type": "stream",
     "text": [
      "The autoreload extension is already loaded. To reload it, use:\n",
      "  %reload_ext autoreload\n"
     ]
    }
   ],
   "source": [
    "%load_ext autoreload\n",
    "%autoreload 2"
   ]
  },
  {
   "cell_type": "code",
   "execution_count": 78,
   "metadata": {
    "collapsed": false
   },
   "outputs": [],
   "source": [
    "import datetime\n",
    "import pandas as pd\n",
    "import numpy as np\n",
    "from functools import partial\n",
    "from dateutil import parser as dtparser\n",
    "\n",
    "from utils.datafetch import *\n",
    "from utils.vectorized_funs import *\n",
    "from utils.datapipe import *\n",
    "from FintechCapstone import FinCapstone\n",
    "\n",
    "import matplotlib as mpl\n",
    "import matplotlib.pyplot as plt\n",
    "import seaborn as sns\n",
    "\n",
    "%matplotlib inline\n"
   ]
  },
  {
   "cell_type": "code",
   "execution_count": 79,
   "metadata": {
    "collapsed": false
   },
   "outputs": [
    {
     "name": "stdout",
     "output_type": "stream",
     "text": [
      "amex has 400 tickers.\n",
      "nasdaq has 3081 tickers.\n",
      "nyse has 3299 tickers.\n",
      "\n",
      "\n",
      "Final dataset has 6780 records\n",
      "(NOK) Final dataset has duplicate tickers (6779 distinct)\n"
     ]
    }
   ],
   "source": [
    "date_from = '2009-01-01'\n",
    "date_to = '2017-03-01'\n",
    "timespan = {\n",
    "    \"short_term\": [1, 5]\n",
    "    ,\"medium_term\": [40]\n",
    "    ,\"long_term\": [90]\n",
    "}\n",
    "\n",
    "timespan_ab = {\n",
    "    \"short_term\": []\n",
    "    ,\"medium_term\": [30]\n",
    "    ,\"long_term\": []\n",
    "}\n",
    "\n",
    "trial = FinCapstone(ticker_list_samplesize=10, timespan=timespan, timespan_ab=timespan_ab, date_from=date_from)"
   ]
  },
  {
   "cell_type": "code",
   "execution_count": 5,
   "metadata": {
    "collapsed": false
   },
   "outputs": [
    {
     "name": "stdout",
     "output_type": "stream",
     "text": [
      "(1/10) Recv. and Stored XXII\n",
      "(2/10) Recv. and Stored FAX\n",
      "(3/10) Recv. and Stored IAF\n",
      "(4/10) Recv. and Stored CH\n",
      "(5/10) ERROR receiving ABE           \n",
      "(6/10) Recv. and Stored FCO\n",
      "(7/10) Recv. and Stored IF\n",
      "(8/10) Recv. and Stored ISL\n",
      "(9/10) Recv. and Stored ACU\n",
      "(10/10) Recv. and Stored AIII\n",
      "Took 0:00:05.270377\n"
     ]
    }
   ],
   "source": [
    "trial.run_initial_dataload()"
   ]
  },
  {
   "cell_type": "code",
   "execution_count": 81,
   "metadata": {
    "collapsed": false,
    "scrolled": false
   },
   "outputs": [
    {
     "name": "stdout",
     "output_type": "stream",
     "text": [
      "\n",
      "\n",
      " - XXII - \n",
      "\n",
      "| | START     - 2017-04-03 20:11:52.624943\n",
      "\\ / RETURNS - 0:00:00.048305\n",
      " V  END       - 2017-04-03 20:11:52.673328 (TOOK 0:00:00.048385)\n",
      "\n",
      "\n",
      " - FAX - \n",
      "\n",
      "| | START     - 2017-04-03 20:11:52.754377\n",
      "\\ / RETURNS - 0:00:00.045577\n",
      " V  END       - 2017-04-03 20:11:52.800023 (TOOK 0:00:00.045646)\n",
      "\n",
      "\n",
      " - IAF - \n",
      "\n",
      "| | START     - 2017-04-03 20:11:52.910805\n",
      "\\ / RETURNS - 0:00:00.045357\n",
      " V  END       - 2017-04-03 20:11:52.956220 (TOOK 0:00:00.045415)\n",
      "\n",
      "\n",
      " - CH - \n",
      "\n",
      "| | START     - 2017-04-03 20:11:53.056091\n",
      "\\ / RETURNS - 0:00:00.046584\n",
      " V  END       - 2017-04-03 20:11:53.102769 (TOOK 0:00:00.046678)\n",
      "\n",
      "\n",
      " - FCO - \n",
      "\n",
      "| | START     - 2017-04-03 20:11:53.202890\n",
      "\\ / RETURNS - 0:00:00.045100\n",
      " V  END       - 2017-04-03 20:11:53.248045 (TOOK 0:00:00.045155)\n",
      "\n",
      "\n",
      " - IF - \n",
      "\n",
      "| | START     - 2017-04-03 20:11:53.341788\n",
      "\\ / RETURNS - 0:00:00.045613\n",
      " V  END       - 2017-04-03 20:11:53.387463 (TOOK 0:00:00.045675)\n",
      "\n",
      "\n",
      " - ISL - \n",
      "\n",
      "| | START     - 2017-04-03 20:11:53.486923\n",
      "\\ / RETURNS - 0:00:00.046559\n",
      " V  END       - 2017-04-03 20:11:53.533580 (TOOK 0:00:00.046657)\n",
      "\n",
      "\n",
      " - ACU - \n",
      "\n",
      "| | START     - 2017-04-03 20:11:53.637547\n",
      "\\ / RETURNS - 0:00:00.046286\n",
      " V  END       - 2017-04-03 20:11:53.683908 (TOOK 0:00:00.046361)\n",
      "\n",
      "\n",
      " - AIII - \n",
      "\n",
      "| | START     - 2017-04-03 20:11:53.779851\n",
      "\\ / RETURNS - 0:00:00.045413\n",
      " V  END       - 2017-04-03 20:11:53.825320 (TOOK 0:00:00.045469)\n"
     ]
    }
   ],
   "source": [
    "trial.feature_engineering(feature_set=\"baseline\")"
   ]
  },
  {
   "cell_type": "code",
   "execution_count": 80,
   "metadata": {
    "collapsed": false
   },
   "outputs": [
    {
     "data": {
      "text/plain": [
       "array([0.5891719764205301, 0.5318471356561989, 0.49363057286876022,\n",
       "       0.49681528738349867, 0.49681528890208831, 0.50636942713123978,\n",
       "       0.49044585949296404, 0.48726114687646271, 0.59554140127388533], dtype=object)"
      ]
     },
     "execution_count": 80,
     "metadata": {},
     "output_type": "execute_result"
    }
   ],
   "source": [
    "trial.load_train_eval_baseline()"
   ]
  },
  {
   "cell_type": "code",
   "execution_count": 68,
   "metadata": {
    "collapsed": false
   },
   "outputs": [
    {
     "data": {
      "text/plain": [
       "array(['XXII', 'FAX', 'IAF', 'CH', 'FCO', 'IF', 'ISL', 'ACU', 'AIII'], dtype=object)"
      ]
     },
     "execution_count": 68,
     "metadata": {},
     "output_type": "execute_result"
    }
   ],
   "source": []
  }
 ],
 "metadata": {
  "kernelspec": {
   "display_name": "Python 3",
   "language": "python",
   "name": "python3"
  },
  "language_info": {
   "codemirror_mode": {
    "name": "ipython",
    "version": 3
   },
   "file_extension": ".py",
   "mimetype": "text/x-python",
   "name": "python",
   "nbconvert_exporter": "python",
   "pygments_lexer": "ipython3",
   "version": "3.5.3"
  },
  "widgets": {
   "state": {},
   "version": "1.1.1"
  }
 },
 "nbformat": 4,
 "nbformat_minor": 0
}
